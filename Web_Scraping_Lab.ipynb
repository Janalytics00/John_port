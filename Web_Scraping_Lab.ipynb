{
  "nbformat": 4,
  "nbformat_minor": 0,
  "metadata": {
    "colab": {
      "provenance": [],
      "authorship_tag": "ABX9TyPm01Ocb+OvyWmdXf0Zen9i",
      "include_colab_link": true
    },
    "kernelspec": {
      "name": "python3",
      "display_name": "Python 3"
    },
    "language_info": {
      "name": "python"
    }
  },
  "cells": [
    {
      "cell_type": "markdown",
      "metadata": {
        "id": "view-in-github",
        "colab_type": "text"
      },
      "source": [
        "<a href=\"https://colab.research.google.com/github/Janalytics00/John_port/blob/main/Web_Scraping_Lab.ipynb\" target=\"_parent\"><img src=\"https://colab.research.google.com/assets/colab-badge.svg\" alt=\"Open In Colab\"/></a>"
      ]
    },
    {
      "cell_type": "markdown",
      "source": [
        "For this lab, we are going to be using Python and several Python libraries."
      ],
      "metadata": {
        "id": "6pi7ZlJ4oNvd"
      }
    },
    {
      "cell_type": "code",
      "execution_count": 4,
      "metadata": {
        "colab": {
          "base_uri": "https://localhost:8080/"
        },
        "id": "NwJY4BWnnvA8",
        "outputId": "1e88e6ea-d544-4bb7-ae43-52a9e25d979b"
      },
      "outputs": [
        {
          "output_type": "stream",
          "name": "stdout",
          "text": [
            "Requirement already satisfied: html5lib in /usr/local/lib/python3.10/dist-packages (1.1)\n",
            "Requirement already satisfied: six>=1.9 in /usr/local/lib/python3.10/dist-packages (from html5lib) (1.16.0)\n",
            "Requirement already satisfied: webencodings in /usr/local/lib/python3.10/dist-packages (from html5lib) (0.5.1)\n"
          ]
        }
      ],
      "source": [
        "!pip install html5lib"
      ]
    },
    {
      "cell_type": "code",
      "source": [
        "!pip install bs4\n",
        "#!pip install requests"
      ],
      "metadata": {
        "colab": {
          "base_uri": "https://localhost:8080/"
        },
        "id": "HAaei0QQoYO5",
        "outputId": "a205683d-1e79-43d2-e8d5-e1c94fb4aa41"
      },
      "execution_count": 5,
      "outputs": [
        {
          "output_type": "stream",
          "name": "stdout",
          "text": [
            "Collecting bs4\n",
            "  Downloading bs4-0.0.1.tar.gz (1.1 kB)\n",
            "  Preparing metadata (setup.py) ... \u001b[?25l\u001b[?25hdone\n",
            "Requirement already satisfied: beautifulsoup4 in /usr/local/lib/python3.10/dist-packages (from bs4) (4.11.2)\n",
            "Requirement already satisfied: soupsieve>1.2 in /usr/local/lib/python3.10/dist-packages (from beautifulsoup4->bs4) (2.5)\n",
            "Building wheels for collected packages: bs4\n",
            "  Building wheel for bs4 (setup.py) ... \u001b[?25l\u001b[?25hdone\n",
            "  Created wheel for bs4: filename=bs4-0.0.1-py3-none-any.whl size=1256 sha256=ef404ac9c02009129ed55980f361f50bbb26c68902c89d74c0878fea5b2bd690\n",
            "  Stored in directory: /root/.cache/pip/wheels/25/42/45/b773edc52acb16cd2db4cf1a0b47117e2f69bb4eb300ed0e70\n",
            "Successfully built bs4\n",
            "Installing collected packages: bs4\n",
            "Successfully installed bs4-0.0.1\n"
          ]
        }
      ]
    },
    {
      "cell_type": "markdown",
      "source": [
        "Import the required modules and functions"
      ],
      "metadata": {
        "id": "C2KPZ50loin5"
      }
    },
    {
      "cell_type": "code",
      "source": [
        "from bs4 import BeautifulSoup # this module helps in web scrapping.\n",
        "import requests  # this module helps us to download a web page"
      ],
      "metadata": {
        "id": "I81gQ88yojdB"
      },
      "execution_count": 6,
      "outputs": []
    },
    {
      "cell_type": "markdown",
      "source": [
        "Beautiful Soup Object.\n",
        "\n",
        "Beautiful Soup is a Python library for pulling data out of HTML and XML files, we will focus on HTML files. This is accomplished by representing the HTML as a set of objects with methods used to parse the HTML."
      ],
      "metadata": {
        "id": "dXkhu86Zo0_g"
      }
    },
    {
      "cell_type": "markdown",
      "source": [
        "Consider the following HTML:"
      ],
      "metadata": {
        "id": "gvUCSozwpCEE"
      }
    },
    {
      "cell_type": "code",
      "source": [
        "%%html\n",
        "<!DOCTYPE html>\n",
        "<html>\n",
        "<head>\n",
        "<title>Page Title</title>\n",
        "</head>\n",
        "<body>\n",
        "<h3><b id='boldest'>Lebron James</b></h3>\n",
        "<p> Salary: $ 92,000,000 </p>\n",
        "<h3> Stephen Curry</h3>\n",
        "<p> Salary: $85,000, 000 </p>\n",
        "<h3> Kevin Durant </h3>\n",
        "<p> Salary: $73,200, 000</p>\n",
        "</body>\n",
        "</html>"
      ],
      "metadata": {
        "colab": {
          "base_uri": "https://localhost:8080/",
          "height": 203
        },
        "id": "8cbNIio8pFi3",
        "outputId": "f35c481e-36b9-4854-96b3-bffb421d333b"
      },
      "execution_count": 7,
      "outputs": [
        {
          "output_type": "display_data",
          "data": {
            "text/plain": [
              "<IPython.core.display.HTML object>"
            ],
            "text/html": [
              "<!DOCTYPE html>\n",
              "<html>\n",
              "<head>\n",
              "<title>Page Title</title>\n",
              "</head>\n",
              "<body>\n",
              "<h3><b id='boldest'>Lebron James</b></h3>\n",
              "<p> Salary: $ 92,000,000 </p>\n",
              "<h3> Stephen Curry</h3>\n",
              "<p> Salary: $85,000, 000 </p>\n",
              "<h3> Kevin Durant </h3>\n",
              "<p> Salary: $73,200, 000</p>\n",
              "</body>\n",
              "</html>\n"
            ]
          },
          "metadata": {}
        }
      ]
    },
    {
      "cell_type": "markdown",
      "source": [
        "We can store it as a string in the variable HTML:"
      ],
      "metadata": {
        "id": "VqqVPMMopK5B"
      }
    },
    {
      "cell_type": "code",
      "source": [
        "url = \"<!DOCTYPE html><html><head><title>Page Title</title></head><body><h3><b id='boldest'>Lebron James</b></h3><p> Salary: $ 92,000,000 </p><h3> Stephen Curry</h3><p> Salary: $85,000, 000 </p><h3> Kevin Durant </h3><p> Salary: $73,200, 000</p></body></html>\""
      ],
      "metadata": {
        "id": "53LW9ieJpLma"
      },
      "execution_count": 8,
      "outputs": []
    },
    {
      "cell_type": "markdown",
      "source": [
        "To parse a document, pass it into the BeautifulSoup constructor. The BeautifulSoup object represents the document as a nested data structure:"
      ],
      "metadata": {
        "id": "vzwiXuhVpbz2"
      }
    },
    {
      "cell_type": "code",
      "source": [
        "soup = BeautifulSoup(url, 'html5lib')"
      ],
      "metadata": {
        "id": "R21KaNGKpjR0"
      },
      "execution_count": 9,
      "outputs": []
    },
    {
      "cell_type": "markdown",
      "source": [
        "First, the document is converted to Unicode (similar to ASCII) and HTML entities are converted to Unicode characters. Beautiful Soup transforms a complex HTML document into a complex tree of Python objects. The BeautifulSoup object can create other types of objects."
      ],
      "metadata": {
        "id": "2JXNPQomqb_5"
      }
    },
    {
      "cell_type": "markdown",
      "source": [
        "We can use the method prettify() to display the HTML in the nested structure:"
      ],
      "metadata": {
        "id": "aHsZlpo8qhsG"
      }
    },
    {
      "cell_type": "code",
      "source": [
        "print(soup.prettify())"
      ],
      "metadata": {
        "colab": {
          "base_uri": "https://localhost:8080/"
        },
        "id": "l_mD2WnCo3wf",
        "outputId": "835ca8b1-f5d0-4129-c46b-69eba71e3271"
      },
      "execution_count": 10,
      "outputs": [
        {
          "output_type": "stream",
          "name": "stdout",
          "text": [
            "<!DOCTYPE html>\n",
            "<html>\n",
            " <head>\n",
            "  <title>\n",
            "   Page Title\n",
            "  </title>\n",
            " </head>\n",
            " <body>\n",
            "  <h3>\n",
            "   <b id=\"boldest\">\n",
            "    Lebron James\n",
            "   </b>\n",
            "  </h3>\n",
            "  <p>\n",
            "   Salary: $ 92,000,000\n",
            "  </p>\n",
            "  <h3>\n",
            "   Stephen Curry\n",
            "  </h3>\n",
            "  <p>\n",
            "   Salary: $85,000, 000\n",
            "  </p>\n",
            "  <h3>\n",
            "   Kevin Durant\n",
            "  </h3>\n",
            "  <p>\n",
            "   Salary: $73,200, 000\n",
            "  </p>\n",
            " </body>\n",
            "</html>\n"
          ]
        }
      ]
    },
    {
      "cell_type": "markdown",
      "source": [
        "Tags\n",
        "\n",
        "Let's say we want the title of the page and the name of the top paid player. We can use the Tag. The Tag object corresponds to an HTML tag in the original document, for example, the tag title."
      ],
      "metadata": {
        "id": "LIVVAUzhq0Mm"
      }
    },
    {
      "cell_type": "code",
      "source": [
        "tag_object = soup.title\n",
        "print(\"tag object:\", tag_object)"
      ],
      "metadata": {
        "colab": {
          "base_uri": "https://localhost:8080/"
        },
        "id": "4crQYHbpq2xy",
        "outputId": "52a2fabb-efcf-4372-c3ec-a1e49e09113f"
      },
      "execution_count": 11,
      "outputs": [
        {
          "output_type": "stream",
          "name": "stdout",
          "text": [
            "tag object: <title>Page Title</title>\n"
          ]
        }
      ]
    },
    {
      "cell_type": "markdown",
      "source": [
        "we can see the tag type bs4.element.Tag"
      ],
      "metadata": {
        "id": "2I0PDKLfrFe_"
      }
    },
    {
      "cell_type": "code",
      "source": [
        "print(\"tag object type:\",type(tag_object))"
      ],
      "metadata": {
        "colab": {
          "base_uri": "https://localhost:8080/"
        },
        "id": "-EFaRcxQrGO9",
        "outputId": "583a0051-5cec-4cb0-aedb-71718beb1912"
      },
      "execution_count": 12,
      "outputs": [
        {
          "output_type": "stream",
          "name": "stdout",
          "text": [
            "tag object type: <class 'bs4.element.Tag'>\n"
          ]
        }
      ]
    },
    {
      "cell_type": "markdown",
      "source": [
        "If there is more than one Tag with the same name, the first element with that Tag name is called. This corresponds to the most paid player:"
      ],
      "metadata": {
        "id": "8yz3H5R7rm8E"
      }
    },
    {
      "cell_type": "code",
      "source": [
        "tag_object=soup.h3\n",
        "tag_object"
      ],
      "metadata": {
        "colab": {
          "base_uri": "https://localhost:8080/"
        },
        "id": "ryCqtw8Qrz8l",
        "outputId": "1848e60d-cbc0-4549-e1ea-bf563a96656d"
      },
      "execution_count": 13,
      "outputs": [
        {
          "output_type": "execute_result",
          "data": {
            "text/plain": [
              "<h3><b id=\"boldest\">Lebron James</b></h3>"
            ]
          },
          "metadata": {},
          "execution_count": 13
        }
      ]
    },
    {
      "cell_type": "markdown",
      "source": [
        "Children, Parents, and Siblings\n",
        "\n",
        "As stated above, the Tag object is a tree of objects. We can access the child of the tag or navigate down the branch as follows:"
      ],
      "metadata": {
        "id": "rBcQsJjYsNCV"
      }
    },
    {
      "cell_type": "code",
      "source": [
        "tag_child = tag_object.b\n",
        "tag_child"
      ],
      "metadata": {
        "colab": {
          "base_uri": "https://localhost:8080/"
        },
        "id": "__KttKAJsRYY",
        "outputId": "a8ce9b23-af19-4bbb-dc62-a1c10bfc9dc6"
      },
      "execution_count": 14,
      "outputs": [
        {
          "output_type": "execute_result",
          "data": {
            "text/plain": [
              "<b id=\"boldest\">Lebron James</b>"
            ]
          },
          "metadata": {},
          "execution_count": 14
        }
      ]
    },
    {
      "cell_type": "markdown",
      "source": [
        "You can access the parent with the  \".parent\"."
      ],
      "metadata": {
        "id": "itJadEYasahj"
      }
    },
    {
      "cell_type": "code",
      "source": [
        "parent_tag=tag_child.parent\n",
        "parent_tag"
      ],
      "metadata": {
        "colab": {
          "base_uri": "https://localhost:8080/"
        },
        "id": "EHW17H3VsbYu",
        "outputId": "773d7e53-3524-48df-9210-094b5142a152"
      },
      "execution_count": 15,
      "outputs": [
        {
          "output_type": "execute_result",
          "data": {
            "text/plain": [
              "<h3><b id=\"boldest\">Lebron James</b></h3>"
            ]
          },
          "metadata": {},
          "execution_count": 15
        }
      ]
    },
    {
      "cell_type": "markdown",
      "source": [
        "tag_object parent is the body element."
      ],
      "metadata": {
        "id": "3y3w_4kCswVv"
      }
    },
    {
      "cell_type": "code",
      "source": [
        "tag_object.parent"
      ],
      "metadata": {
        "colab": {
          "base_uri": "https://localhost:8080/"
        },
        "id": "BgSZ4OHrsw7R",
        "outputId": "b7c5a14f-0f3d-4a0f-b42e-067953a6ba73"
      },
      "execution_count": 16,
      "outputs": [
        {
          "output_type": "execute_result",
          "data": {
            "text/plain": [
              "<body><h3><b id=\"boldest\">Lebron James</b></h3><p> Salary: $ 92,000,000 </p><h3> Stephen Curry</h3><p> Salary: $85,000, 000 </p><h3> Kevin Durant </h3><p> Salary: $73,200, 000</p></body>"
            ]
          },
          "metadata": {},
          "execution_count": 16
        }
      ]
    },
    {
      "cell_type": "markdown",
      "source": [
        "tag_object sibling is the paragraph element."
      ],
      "metadata": {
        "id": "9ioTUMY7tEbU"
      }
    },
    {
      "cell_type": "code",
      "source": [
        "sibling_1 = tag_object.next_sibling\n",
        "sibling_1"
      ],
      "metadata": {
        "colab": {
          "base_uri": "https://localhost:8080/"
        },
        "id": "DaxCkOqutFE2",
        "outputId": "304c2226-1d7c-4bb1-b269-9d781595ef87"
      },
      "execution_count": 17,
      "outputs": [
        {
          "output_type": "execute_result",
          "data": {
            "text/plain": [
              "<p> Salary: $ 92,000,000 </p>"
            ]
          },
          "metadata": {},
          "execution_count": 17
        }
      ]
    },
    {
      "cell_type": "markdown",
      "source": [
        "sibling_2 is the header element, which is also a sibling of both sibling_1 and tag_object"
      ],
      "metadata": {
        "id": "BqO3au5HtSE1"
      }
    },
    {
      "cell_type": "code",
      "source": [
        "sibling_2 = sibling_1.next_sibling\n",
        "sibling_2"
      ],
      "metadata": {
        "colab": {
          "base_uri": "https://localhost:8080/"
        },
        "id": "P7r0fo1YtS2J",
        "outputId": "01f14690-0dec-4bea-ebe4-55449ae995e2"
      },
      "execution_count": 18,
      "outputs": [
        {
          "output_type": "execute_result",
          "data": {
            "text/plain": [
              "<h3> Stephen Curry</h3>"
            ]
          },
          "metadata": {},
          "execution_count": 18
        }
      ]
    },
    {
      "cell_type": "code",
      "source": [
        "sibling_2.next_sibling"
      ],
      "metadata": {
        "colab": {
          "base_uri": "https://localhost:8080/"
        },
        "id": "zKNr9-TVttPi",
        "outputId": "9de92823-0ad3-4336-929f-36f0a6733bfd"
      },
      "execution_count": 19,
      "outputs": [
        {
          "output_type": "execute_result",
          "data": {
            "text/plain": [
              "<p> Salary: $85,000, 000 </p>"
            ]
          },
          "metadata": {},
          "execution_count": 19
        }
      ]
    },
    {
      "cell_type": "markdown",
      "source": [
        "HTML Attributes\n",
        "\n",
        "If the tag has attributes, the tag id=\"boldest\" has an attribute id whose value is boldest. You can access a tag's attributes by treating the tag like a dictionary:"
      ],
      "metadata": {
        "id": "LTVorflXuCSj"
      }
    },
    {
      "cell_type": "code",
      "source": [
        "tag_child['id']"
      ],
      "metadata": {
        "colab": {
          "base_uri": "https://localhost:8080/",
          "height": 35
        },
        "id": "cFWUOw03uDoh",
        "outputId": "88b72560-8e58-4f64-9f49-c8aeac4aaee1"
      },
      "execution_count": 20,
      "outputs": [
        {
          "output_type": "execute_result",
          "data": {
            "text/plain": [
              "'boldest'"
            ],
            "application/vnd.google.colaboratory.intrinsic+json": {
              "type": "string"
            }
          },
          "metadata": {},
          "execution_count": 20
        }
      ]
    },
    {
      "cell_type": "markdown",
      "source": [
        "You can access that dictionary directly as attrs:"
      ],
      "metadata": {
        "id": "YXartFfWuIWU"
      }
    },
    {
      "cell_type": "code",
      "source": [
        "tag_child.attrs"
      ],
      "metadata": {
        "colab": {
          "base_uri": "https://localhost:8080/"
        },
        "id": "AuE6rpNuuKdY",
        "outputId": "7a522382-a09e-4005-b2bf-fd6749b34cb4"
      },
      "execution_count": 21,
      "outputs": [
        {
          "output_type": "execute_result",
          "data": {
            "text/plain": [
              "{'id': 'boldest'}"
            ]
          },
          "metadata": {},
          "execution_count": 21
        }
      ]
    },
    {
      "cell_type": "markdown",
      "source": [
        "Navigable String\n",
        "\n",
        "A string corresponds to a bit of text or content within a tag. Beautiful Soup uses the NavigableString class to contain this text. In our HTML we can obtain the name of the first player by extracting the string of the Tag object tag_child as follows:"
      ],
      "metadata": {
        "id": "mNZOIaOPvoIa"
      }
    },
    {
      "cell_type": "code",
      "source": [
        "tag_string = tag_child.string\n",
        "tag_string"
      ],
      "metadata": {
        "colab": {
          "base_uri": "https://localhost:8080/",
          "height": 35
        },
        "id": "yDntyf0uvsGJ",
        "outputId": "9295449c-d339-4473-f2f4-1f6120d0e0d8"
      },
      "execution_count": 22,
      "outputs": [
        {
          "output_type": "execute_result",
          "data": {
            "text/plain": [
              "'Lebron James'"
            ],
            "application/vnd.google.colaboratory.intrinsic+json": {
              "type": "string"
            }
          },
          "metadata": {},
          "execution_count": 22
        }
      ]
    },
    {
      "cell_type": "markdown",
      "source": [
        "Filter\n",
        "Filters allow you to find complex patterns, the simplest filter is a string. In this section we will pass a string to a different filter method and Beautiful Soup will perform a match against that exact string. Consider the following HTML of rocket launches:"
      ],
      "metadata": {
        "id": "H3AkfZAn6uoa"
      }
    },
    {
      "cell_type": "code",
      "source": [
        "%%html\n",
        "<table>\n",
        "  <tr>\n",
        "    <td id='flight' >Flight No</td>\n",
        "    <td>Launch site</td>\n",
        "    <td>Payload mass</td>\n",
        "   </tr>\n",
        "  <tr>\n",
        "    <td>1</td>\n",
        "    <td><a href='https://en.wikipedia.org/wiki/Florida'>Florida</a></td>\n",
        "    <td>300 kg</td>\n",
        "  </tr>\n",
        "  <tr>\n",
        "    <td>2</td>\n",
        "    <td><a href='https://en.wikipedia.org/wiki/Texas'>Texas</a></td>\n",
        "    <td>94 kg</td>\n",
        "  </tr>\n",
        "  <tr>\n",
        "    <td>3</td>\n",
        "    <td><a href='https://en.wikipedia.org/wiki/Florida'>Florida<a> </td>\n",
        "    <td>80 kg</td>\n",
        "  </tr>\n",
        "</table>"
      ],
      "metadata": {
        "id": "15p_ROHRvqZ-",
        "colab": {
          "base_uri": "https://localhost:8080/",
          "height": 104
        },
        "outputId": "1da19eb7-2d07-4cde-ef96-46fd410e6caf"
      },
      "execution_count": 23,
      "outputs": [
        {
          "output_type": "display_data",
          "data": {
            "text/plain": [
              "<IPython.core.display.HTML object>"
            ],
            "text/html": [
              "<table>\n",
              "  <tr>\n",
              "    <td id='flight' >Flight No</td>\n",
              "    <td>Launch site</td> \n",
              "    <td>Payload mass</td>\n",
              "   </tr>\n",
              "  <tr> \n",
              "    <td>1</td>\n",
              "    <td><a href='https://en.wikipedia.org/wiki/Florida'>Florida</a></td>\n",
              "    <td>300 kg</td>\n",
              "  </tr>\n",
              "  <tr>\n",
              "    <td>2</td>\n",
              "    <td><a href='https://en.wikipedia.org/wiki/Texas'>Texas</a></td>\n",
              "    <td>94 kg</td>\n",
              "  </tr>\n",
              "  <tr>\n",
              "    <td>3</td>\n",
              "    <td><a href='https://en.wikipedia.org/wiki/Florida'>Florida<a> </td>\n",
              "    <td>80 kg</td>\n",
              "  </tr>\n",
              "</table>\n"
            ]
          },
          "metadata": {}
        }
      ]
    },
    {
      "cell_type": "markdown",
      "source": [
        "We can store it as a string in the variable table:"
      ],
      "metadata": {
        "id": "obexdRI79bri"
      }
    },
    {
      "cell_type": "code",
      "source": [
        "table=\"<table><tr><td id='flight'>Flight No</td><td>Launch site</td> <td>Payload mass</td></tr><tr> <td>1</td><td><a href='https://en.wikipedia.org/wiki/Florida'>Florida<a></td><td>300 kg</td></tr><tr><td>2</td><td><a href='https://en.wikipedia.org/wiki/Texas'>Texas</a></td><td>94 kg</td></tr><tr><td>3</td><td><a href='https://en.wikipedia.org/wiki/Florida'>Florida<a> </td><td>80 kg</td></tr></table>\""
      ],
      "metadata": {
        "id": "NZ9Y7HNP9dnz"
      },
      "execution_count": 24,
      "outputs": []
    },
    {
      "cell_type": "code",
      "source": [
        "table_bs = BeautifulSoup(table, 'html5lib')"
      ],
      "metadata": {
        "id": "7pqU2D0y9hsj"
      },
      "execution_count": 25,
      "outputs": []
    },
    {
      "cell_type": "markdown",
      "source": [
        "find_All\n",
        "\n",
        "The find_all() method looks through a tag's descendants and retrieves all descendants that match your filters.\n",
        "\n",
        "The Method signature for find_all(name, attrs, recursive, string, limit, **kwargs)"
      ],
      "metadata": {
        "id": "sNWNkSEj_kIY"
      }
    },
    {
      "cell_type": "markdown",
      "source": [
        "Name\n",
        "\n",
        "When we set the name parameter to a tag name, the method will extract all the tags with that name and its children."
      ],
      "metadata": {
        "id": "VPH21EBcA80q"
      }
    },
    {
      "cell_type": "code",
      "source": [
        "table_rows = table_bs.find_all('tr')\n",
        "table_rows"
      ],
      "metadata": {
        "colab": {
          "base_uri": "https://localhost:8080/"
        },
        "id": "2QDTAHYKA-Oh",
        "outputId": "45d76475-8045-422b-81ea-d017cc1f8da0"
      },
      "execution_count": 27,
      "outputs": [
        {
          "output_type": "execute_result",
          "data": {
            "text/plain": [
              "[<tr><td id=\"flight\">Flight No</td><td>Launch site</td> <td>Payload mass</td></tr>,\n",
              " <tr> <td>1</td><td><a href=\"https://en.wikipedia.org/wiki/Florida\">Florida</a><a></a></td><td>300 kg</td></tr>,\n",
              " <tr><td>2</td><td><a href=\"https://en.wikipedia.org/wiki/Texas\">Texas</a></td><td>94 kg</td></tr>,\n",
              " <tr><td>3</td><td><a href=\"https://en.wikipedia.org/wiki/Florida\">Florida</a><a> </a></td><td>80 kg</td></tr>]"
            ]
          },
          "metadata": {},
          "execution_count": 27
        }
      ]
    },
    {
      "cell_type": "markdown",
      "source": [
        "The result is a Python iterable just like a list, each element is a tag object:"
      ],
      "metadata": {
        "id": "sPtu6ypQLjcL"
      }
    },
    {
      "cell_type": "code",
      "source": [
        "first_row = table_rows[0]\n",
        "first_row"
      ],
      "metadata": {
        "colab": {
          "base_uri": "https://localhost:8080/"
        },
        "id": "_Rm_oYac_n1t",
        "outputId": "46d8e099-8d58-42e3-9272-a092cdca2880"
      },
      "execution_count": 28,
      "outputs": [
        {
          "output_type": "execute_result",
          "data": {
            "text/plain": [
              "<tr><td id=\"flight\">Flight No</td><td>Launch site</td> <td>Payload mass</td></tr>"
            ]
          },
          "metadata": {},
          "execution_count": 28
        }
      ]
    },
    {
      "cell_type": "markdown",
      "source": [
        "The type is tag"
      ],
      "metadata": {
        "id": "HjGQFEsDLzwV"
      }
    },
    {
      "cell_type": "code",
      "source": [
        "print(type(first_row))"
      ],
      "metadata": {
        "colab": {
          "base_uri": "https://localhost:8080/"
        },
        "id": "XAZMX5xCL1WO",
        "outputId": "4b2f5cb2-1f6b-4db0-dc3b-f84842e359ab"
      },
      "execution_count": 29,
      "outputs": [
        {
          "output_type": "stream",
          "name": "stdout",
          "text": [
            "<class 'bs4.element.Tag'>\n"
          ]
        }
      ]
    },
    {
      "cell_type": "markdown",
      "source": [
        "we can obtain the child"
      ],
      "metadata": {
        "id": "tTC8Iry7L8j6"
      }
    },
    {
      "cell_type": "code",
      "source": [
        "first_row.td"
      ],
      "metadata": {
        "colab": {
          "base_uri": "https://localhost:8080/"
        },
        "id": "v2ILpnMTL9eW",
        "outputId": "a995d095-9b6b-4bd4-e794-70cf6b544542"
      },
      "execution_count": 30,
      "outputs": [
        {
          "output_type": "execute_result",
          "data": {
            "text/plain": [
              "<td id=\"flight\">Flight No</td>"
            ]
          },
          "metadata": {},
          "execution_count": 30
        }
      ]
    },
    {
      "cell_type": "markdown",
      "source": [
        "If we iterate through the list, each element corresponds to a row in the table:"
      ],
      "metadata": {
        "id": "AZ3zHxHTMBlK"
      }
    },
    {
      "cell_type": "code",
      "source": [
        "for i,row in enumerate(table_rows):\n",
        "    print(\"row\",i,\"is\",row)"
      ],
      "metadata": {
        "colab": {
          "base_uri": "https://localhost:8080/"
        },
        "id": "zt7XOZbhMCh6",
        "outputId": "089a389a-fce2-408b-9bb5-1a4c1edfbac0"
      },
      "execution_count": 33,
      "outputs": [
        {
          "output_type": "stream",
          "name": "stdout",
          "text": [
            "row 0 is <tr><td id=\"flight\">Flight No</td><td>Launch site</td> <td>Payload mass</td></tr>\n",
            "row 1 is <tr> <td>1</td><td><a href=\"https://en.wikipedia.org/wiki/Florida\">Florida</a><a></a></td><td>300 kg</td></tr>\n",
            "row 2 is <tr><td>2</td><td><a href=\"https://en.wikipedia.org/wiki/Texas\">Texas</a></td><td>94 kg</td></tr>\n",
            "row 3 is <tr><td>3</td><td><a href=\"https://en.wikipedia.org/wiki/Florida\">Florida</a><a> </a></td><td>80 kg</td></tr>\n"
          ]
        }
      ]
    },
    {
      "cell_type": "markdown",
      "source": [
        "As row is a cell object, we can apply the method find_all to it and extract table cells in the object cells using the tag td, this is all the children with the name td. The result is a list, each element corresponds to a cell and is a Tag object, we can iterate through this list as well. We can extract the content using the string attribute."
      ],
      "metadata": {
        "id": "w0Nl9YyHNhlV"
      }
    },
    {
      "cell_type": "code",
      "source": [
        "for i,row in enumerate(table_rows):\n",
        "    print(\"row\",i)\n",
        "    cells=row.find_all('td')\n",
        "    for j,cell in enumerate(cells):\n",
        "        print('column',j,\"cell\",cell)"
      ],
      "metadata": {
        "colab": {
          "base_uri": "https://localhost:8080/"
        },
        "id": "TJHEsHrPNi0S",
        "outputId": "11741ad2-37ad-4792-8703-54bce710148a"
      },
      "execution_count": 34,
      "outputs": [
        {
          "output_type": "stream",
          "name": "stdout",
          "text": [
            "row 0\n",
            "column 0 cell <td id=\"flight\">Flight No</td>\n",
            "column 1 cell <td>Launch site</td>\n",
            "column 2 cell <td>Payload mass</td>\n",
            "row 1\n",
            "column 0 cell <td>1</td>\n",
            "column 1 cell <td><a href=\"https://en.wikipedia.org/wiki/Florida\">Florida</a><a></a></td>\n",
            "column 2 cell <td>300 kg</td>\n",
            "row 2\n",
            "column 0 cell <td>2</td>\n",
            "column 1 cell <td><a href=\"https://en.wikipedia.org/wiki/Texas\">Texas</a></td>\n",
            "column 2 cell <td>94 kg</td>\n",
            "row 3\n",
            "column 0 cell <td>3</td>\n",
            "column 1 cell <td><a href=\"https://en.wikipedia.org/wiki/Florida\">Florida</a><a> </a></td>\n",
            "column 2 cell <td>80 kg</td>\n"
          ]
        }
      ]
    },
    {
      "cell_type": "markdown",
      "source": [
        "If we use a list we can match against any item in that list."
      ],
      "metadata": {
        "id": "xd_GBqUQPhZT"
      }
    },
    {
      "cell_type": "code",
      "source": [
        "list_input=table_bs.find_all(name=[\"tr\", \"td\"])\n",
        "list_input"
      ],
      "metadata": {
        "colab": {
          "base_uri": "https://localhost:8080/"
        },
        "id": "sYtLvGDDPoEz",
        "outputId": "155df2c6-2c2f-4442-f4b7-2f54989be643"
      },
      "execution_count": 35,
      "outputs": [
        {
          "output_type": "execute_result",
          "data": {
            "text/plain": [
              "[<tr><td id=\"flight\">Flight No</td><td>Launch site</td> <td>Payload mass</td></tr>,\n",
              " <td id=\"flight\">Flight No</td>,\n",
              " <td>Launch site</td>,\n",
              " <td>Payload mass</td>,\n",
              " <tr> <td>1</td><td><a href=\"https://en.wikipedia.org/wiki/Florida\">Florida</a><a></a></td><td>300 kg</td></tr>,\n",
              " <td>1</td>,\n",
              " <td><a href=\"https://en.wikipedia.org/wiki/Florida\">Florida</a><a></a></td>,\n",
              " <td>300 kg</td>,\n",
              " <tr><td>2</td><td><a href=\"https://en.wikipedia.org/wiki/Texas\">Texas</a></td><td>94 kg</td></tr>,\n",
              " <td>2</td>,\n",
              " <td><a href=\"https://en.wikipedia.org/wiki/Texas\">Texas</a></td>,\n",
              " <td>94 kg</td>,\n",
              " <tr><td>3</td><td><a href=\"https://en.wikipedia.org/wiki/Florida\">Florida</a><a> </a></td><td>80 kg</td></tr>,\n",
              " <td>3</td>,\n",
              " <td><a href=\"https://en.wikipedia.org/wiki/Florida\">Florida</a><a> </a></td>,\n",
              " <td>80 kg</td>]"
            ]
          },
          "metadata": {},
          "execution_count": 35
        }
      ]
    },
    {
      "cell_type": "markdown",
      "source": [
        "Attributes\n",
        "\n",
        "If the argument is not recognized it will be turned into a filter on the tag's attributes. For example with the id argument, Beautiful Soup will filter against each tag's id attribute. For example, the first td elements have a value of id of flight, therefore we can filter based on that id value."
      ],
      "metadata": {
        "id": "s9JdccRNQAHD"
      }
    },
    {
      "cell_type": "code",
      "source": [
        "table_bs.find_all(id=\"flight\")"
      ],
      "metadata": {
        "colab": {
          "base_uri": "https://localhost:8080/"
        },
        "id": "0962VQfWQBeu",
        "outputId": "618b2848-fb7a-471c-9550-1d0f197b7697"
      },
      "execution_count": 37,
      "outputs": [
        {
          "output_type": "execute_result",
          "data": {
            "text/plain": [
              "[<td id=\"flight\">Flight No</td>]"
            ]
          },
          "metadata": {},
          "execution_count": 37
        }
      ]
    },
    {
      "cell_type": "markdown",
      "source": [
        "We can find all the elements that have links to the Florida Wikipedia page"
      ],
      "metadata": {
        "id": "O2s-LKgkQRcz"
      }
    },
    {
      "cell_type": "code",
      "source": [
        "list_input = table_bs.find_all(href=\"https://en.wikipedia.org/wiki/Florida\")\n",
        "list_input"
      ],
      "metadata": {
        "colab": {
          "base_uri": "https://localhost:8080/"
        },
        "id": "Au6gCQw2QSMY",
        "outputId": "028b1419-1417-4090-c20f-fd9b87438d87"
      },
      "execution_count": 38,
      "outputs": [
        {
          "output_type": "execute_result",
          "data": {
            "text/plain": [
              "[<a href=\"https://en.wikipedia.org/wiki/Florida\">Florida</a>,\n",
              " <a href=\"https://en.wikipedia.org/wiki/Florida\">Florida</a>]"
            ]
          },
          "metadata": {},
          "execution_count": 38
        }
      ]
    },
    {
      "cell_type": "markdown",
      "source": [
        "If we set the href attribute to True, regardless of what the value is, the code finds all tags with href value:"
      ],
      "metadata": {
        "id": "kf_5xYELWNju"
      }
    },
    {
      "cell_type": "code",
      "source": [
        "table_bs.find_all(href=True)"
      ],
      "metadata": {
        "colab": {
          "base_uri": "https://localhost:8080/"
        },
        "id": "7lYGw1NKWGQq",
        "outputId": "11e7d142-dd90-415d-8bb8-6edf8af92ada"
      },
      "execution_count": 39,
      "outputs": [
        {
          "output_type": "execute_result",
          "data": {
            "text/plain": [
              "[<a href=\"https://en.wikipedia.org/wiki/Florida\">Florida</a>,\n",
              " <a href=\"https://en.wikipedia.org/wiki/Texas\">Texas</a>,\n",
              " <a href=\"https://en.wikipedia.org/wiki/Florida\">Florida</a>]"
            ]
          },
          "metadata": {},
          "execution_count": 39
        }
      ]
    },
    {
      "cell_type": "markdown",
      "source": [
        "Exercise: find_all\n",
        "\n",
        "Using the logic above, find all the elements without href value"
      ],
      "metadata": {
        "id": "dyYyHGZoWh8I"
      }
    },
    {
      "cell_type": "code",
      "source": [
        "table_bs.find_all(href=False)"
      ],
      "metadata": {
        "colab": {
          "base_uri": "https://localhost:8080/"
        },
        "id": "piwK1iGIWkN_",
        "outputId": "f39146d1-4c91-4901-af64-7aa90f2da082"
      },
      "execution_count": 40,
      "outputs": [
        {
          "output_type": "execute_result",
          "data": {
            "text/plain": [
              "[<html><head></head><body><table><tbody><tr><td id=\"flight\">Flight No</td><td>Launch site</td> <td>Payload mass</td></tr><tr> <td>1</td><td><a href=\"https://en.wikipedia.org/wiki/Florida\">Florida</a><a></a></td><td>300 kg</td></tr><tr><td>2</td><td><a href=\"https://en.wikipedia.org/wiki/Texas\">Texas</a></td><td>94 kg</td></tr><tr><td>3</td><td><a href=\"https://en.wikipedia.org/wiki/Florida\">Florida</a><a> </a></td><td>80 kg</td></tr></tbody></table></body></html>,\n",
              " <head></head>,\n",
              " <body><table><tbody><tr><td id=\"flight\">Flight No</td><td>Launch site</td> <td>Payload mass</td></tr><tr> <td>1</td><td><a href=\"https://en.wikipedia.org/wiki/Florida\">Florida</a><a></a></td><td>300 kg</td></tr><tr><td>2</td><td><a href=\"https://en.wikipedia.org/wiki/Texas\">Texas</a></td><td>94 kg</td></tr><tr><td>3</td><td><a href=\"https://en.wikipedia.org/wiki/Florida\">Florida</a><a> </a></td><td>80 kg</td></tr></tbody></table></body>,\n",
              " <table><tbody><tr><td id=\"flight\">Flight No</td><td>Launch site</td> <td>Payload mass</td></tr><tr> <td>1</td><td><a href=\"https://en.wikipedia.org/wiki/Florida\">Florida</a><a></a></td><td>300 kg</td></tr><tr><td>2</td><td><a href=\"https://en.wikipedia.org/wiki/Texas\">Texas</a></td><td>94 kg</td></tr><tr><td>3</td><td><a href=\"https://en.wikipedia.org/wiki/Florida\">Florida</a><a> </a></td><td>80 kg</td></tr></tbody></table>,\n",
              " <tbody><tr><td id=\"flight\">Flight No</td><td>Launch site</td> <td>Payload mass</td></tr><tr> <td>1</td><td><a href=\"https://en.wikipedia.org/wiki/Florida\">Florida</a><a></a></td><td>300 kg</td></tr><tr><td>2</td><td><a href=\"https://en.wikipedia.org/wiki/Texas\">Texas</a></td><td>94 kg</td></tr><tr><td>3</td><td><a href=\"https://en.wikipedia.org/wiki/Florida\">Florida</a><a> </a></td><td>80 kg</td></tr></tbody>,\n",
              " <tr><td id=\"flight\">Flight No</td><td>Launch site</td> <td>Payload mass</td></tr>,\n",
              " <td id=\"flight\">Flight No</td>,\n",
              " <td>Launch site</td>,\n",
              " <td>Payload mass</td>,\n",
              " <tr> <td>1</td><td><a href=\"https://en.wikipedia.org/wiki/Florida\">Florida</a><a></a></td><td>300 kg</td></tr>,\n",
              " <td>1</td>,\n",
              " <td><a href=\"https://en.wikipedia.org/wiki/Florida\">Florida</a><a></a></td>,\n",
              " <a></a>,\n",
              " <td>300 kg</td>,\n",
              " <tr><td>2</td><td><a href=\"https://en.wikipedia.org/wiki/Texas\">Texas</a></td><td>94 kg</td></tr>,\n",
              " <td>2</td>,\n",
              " <td><a href=\"https://en.wikipedia.org/wiki/Texas\">Texas</a></td>,\n",
              " <td>94 kg</td>,\n",
              " <tr><td>3</td><td><a href=\"https://en.wikipedia.org/wiki/Florida\">Florida</a><a> </a></td><td>80 kg</td></tr>,\n",
              " <td>3</td>,\n",
              " <td><a href=\"https://en.wikipedia.org/wiki/Florida\">Florida</a><a> </a></td>,\n",
              " <a> </a>,\n",
              " <td>80 kg</td>]"
            ]
          },
          "metadata": {},
          "execution_count": 40
        }
      ]
    },
    {
      "cell_type": "markdown",
      "source": [
        "Using the soup object soup, find the element with the id attribute content set to \"boldest\""
      ],
      "metadata": {
        "id": "ZiA138q2Xiqg"
      }
    },
    {
      "cell_type": "code",
      "source": [
        "soup.find_all(id=\"boldest\")"
      ],
      "metadata": {
        "colab": {
          "base_uri": "https://localhost:8080/"
        },
        "id": "Z041e3L6Xjk8",
        "outputId": "1b194098-e1f2-4eb9-c08c-36df06bf44ec"
      },
      "execution_count": 41,
      "outputs": [
        {
          "output_type": "execute_result",
          "data": {
            "text/plain": [
              "[<b id=\"boldest\">Lebron James</b>]"
            ]
          },
          "metadata": {},
          "execution_count": 41
        }
      ]
    },
    {
      "cell_type": "markdown",
      "source": [
        "string\n",
        "\n",
        "With string you can search for strings instead of tags, where we find all the elments with Florida:"
      ],
      "metadata": {
        "id": "7N8Vb_25XvQi"
      }
    },
    {
      "cell_type": "code",
      "source": [
        "table_bs.find_all(string=\"Florida\")"
      ],
      "metadata": {
        "colab": {
          "base_uri": "https://localhost:8080/"
        },
        "id": "ZxVDiFoRXxFY",
        "outputId": "6710e1bf-02a3-4848-d534-7b72256fef8a"
      },
      "execution_count": 42,
      "outputs": [
        {
          "output_type": "execute_result",
          "data": {
            "text/plain": [
              "['Florida', 'Florida']"
            ]
          },
          "metadata": {},
          "execution_count": 42
        }
      ]
    },
    {
      "cell_type": "markdown",
      "source": [
        "find\n",
        "\n",
        "The find_all() method scans the entire document looking for results. It’s useful if you are looking for one element, as you can use the find() method to find the first element in the document. Consider the following two tables:"
      ],
      "metadata": {
        "id": "Z0Qn3GnFX7pY"
      }
    },
    {
      "cell_type": "code",
      "source": [
        "%%html\n",
        "<h3>Rocket Launch </h3>\n",
        "\n",
        "<p>\n",
        "<table class='rocket'>\n",
        "  <tr>\n",
        "    <td>Flight No</td>\n",
        "    <td>Launch site</td>\n",
        "    <td>Payload mass</td>\n",
        "  </tr>\n",
        "  <tr>\n",
        "    <td>1</td>\n",
        "    <td>Florida</td>\n",
        "    <td>300 kg</td>\n",
        "  </tr>\n",
        "  <tr>\n",
        "    <td>2</td>\n",
        "    <td>Texas</td>\n",
        "    <td>94 kg</td>\n",
        "  </tr>\n",
        "  <tr>\n",
        "    <td>3</td>\n",
        "    <td>Florida </td>\n",
        "    <td>80 kg</td>\n",
        "  </tr>\n",
        "</table>\n",
        "</p>\n",
        "<p>\n",
        "\n",
        "<h3>Pizza Party  </h3>\n",
        "\n",
        "\n",
        "<table class='pizza'>\n",
        "  <tr>\n",
        "    <td>Pizza Place</td>\n",
        "    <td>Orders</td>\n",
        "    <td>Slices </td>\n",
        "   </tr>\n",
        "  <tr>\n",
        "    <td>Domino's Pizza</td>\n",
        "    <td>10</td>\n",
        "    <td>100</td>\n",
        "  </tr>\n",
        "  <tr>\n",
        "    <td>Little Caesars</td>\n",
        "    <td>12</td>\n",
        "    <td >144 </td>\n",
        "  </tr>\n",
        "  <tr>\n",
        "    <td>Papa John's </td>\n",
        "    <td>15 </td>\n",
        "    <td>165</td>\n",
        "  </tr>\n"
      ],
      "metadata": {
        "colab": {
          "base_uri": "https://localhost:8080/",
          "height": 275
        },
        "id": "eyfRdoN3X9F3",
        "outputId": "58519e77-342f-4aed-9743-22991f63c9e3"
      },
      "execution_count": 43,
      "outputs": [
        {
          "output_type": "display_data",
          "data": {
            "text/plain": [
              "<IPython.core.display.HTML object>"
            ],
            "text/html": [
              "<h3>Rocket Launch </h3>\n",
              "\n",
              "<p>\n",
              "<table class='rocket'>\n",
              "  <tr>\n",
              "    <td>Flight No</td>\n",
              "    <td>Launch site</td> \n",
              "    <td>Payload mass</td>\n",
              "  </tr>\n",
              "  <tr>\n",
              "    <td>1</td>\n",
              "    <td>Florida</td>\n",
              "    <td>300 kg</td>\n",
              "  </tr>\n",
              "  <tr>\n",
              "    <td>2</td>\n",
              "    <td>Texas</td>\n",
              "    <td>94 kg</td>\n",
              "  </tr>\n",
              "  <tr>\n",
              "    <td>3</td>\n",
              "    <td>Florida </td>\n",
              "    <td>80 kg</td>\n",
              "  </tr>\n",
              "</table>\n",
              "</p>\n",
              "<p>\n",
              "\n",
              "<h3>Pizza Party  </h3>\n",
              "  \n",
              "    \n",
              "<table class='pizza'>\n",
              "  <tr>\n",
              "    <td>Pizza Place</td>\n",
              "    <td>Orders</td> \n",
              "    <td>Slices </td>\n",
              "   </tr>\n",
              "  <tr>\n",
              "    <td>Domino's Pizza</td>\n",
              "    <td>10</td>\n",
              "    <td>100</td>\n",
              "  </tr>\n",
              "  <tr>\n",
              "    <td>Little Caesars</td>\n",
              "    <td>12</td>\n",
              "    <td >144 </td>\n",
              "  </tr>\n",
              "  <tr>\n",
              "    <td>Papa John's </td>\n",
              "    <td>15 </td>\n",
              "    <td>165</td>\n",
              "  </tr>\n"
            ]
          },
          "metadata": {}
        }
      ]
    },
    {
      "cell_type": "markdown",
      "source": [
        "We store the HTML as a Python string and assign two_tables:"
      ],
      "metadata": {
        "id": "Xfo4DthqYDxc"
      }
    },
    {
      "cell_type": "code",
      "source": [
        "two_tables=\"<h3>Rocket Launch </h3><p><table class='rocket'><tr><td>Flight No</td><td>Launch site</td> <td>Payload mass</td></tr><tr><td>1</td><td>Florida</td><td>300 kg</td></tr><tr><td>2</td><td>Texas</td><td>94 kg</td></tr><tr><td>3</td><td>Florida </td><td>80 kg</td></tr></table></p><p><h3>Pizza Party  </h3><table class='pizza'><tr><td>Pizza Place</td><td>Orders</td> <td>Slices </td></tr><tr><td>Domino's Pizza</td><td>10</td><td>100</td></tr><tr><td>Little Caesars</td><td>12</td><td >144 </td></tr><tr><td>Papa John's </td><td>15 </td><td>165</td></tr>\""
      ],
      "metadata": {
        "id": "HPJZ1ZytYFKe"
      },
      "execution_count": 44,
      "outputs": []
    },
    {
      "cell_type": "markdown",
      "source": [
        "We create a BeautifulSoup object two_tables_bs"
      ],
      "metadata": {
        "id": "qwKfAM1NYIct"
      }
    },
    {
      "cell_type": "code",
      "source": [
        "two_tables_bs = BeautifulSoup(two_tables, 'html.parser')"
      ],
      "metadata": {
        "id": "utaDpywcYIIZ"
      },
      "execution_count": 45,
      "outputs": []
    },
    {
      "cell_type": "markdown",
      "source": [
        "We can find the first table using the tag name table"
      ],
      "metadata": {
        "id": "4esWB5FTYZRW"
      }
    },
    {
      "cell_type": "code",
      "source": [
        "two_tables_bs.find(\"table\")"
      ],
      "metadata": {
        "colab": {
          "base_uri": "https://localhost:8080/"
        },
        "id": "hrV6I2hPYd7H",
        "outputId": "62d1dd43-9ffc-47d2-fb77-77a17c3eaec1"
      },
      "execution_count": 46,
      "outputs": [
        {
          "output_type": "execute_result",
          "data": {
            "text/plain": [
              "<table class=\"rocket\"><tr><td>Flight No</td><td>Launch site</td> <td>Payload mass</td></tr><tr><td>1</td><td>Florida</td><td>300 kg</td></tr><tr><td>2</td><td>Texas</td><td>94 kg</td></tr><tr><td>3</td><td>Florida </td><td>80 kg</td></tr></table>"
            ]
          },
          "metadata": {},
          "execution_count": 46
        }
      ]
    },
    {
      "cell_type": "markdown",
      "source": [
        "We can filter on the class attribute to find the second table, but because class is a keyword in Python, we add an underscore to differentiate them."
      ],
      "metadata": {
        "id": "ysXAYzpuYodw"
      }
    },
    {
      "cell_type": "code",
      "source": [
        "two_tables_bs.find(\"table\",class_='pizza')"
      ],
      "metadata": {
        "colab": {
          "base_uri": "https://localhost:8080/"
        },
        "id": "fQ_ZvD11YpO0",
        "outputId": "8fd57814-5c02-4f7b-cc00-f52a0fc8b9d1"
      },
      "execution_count": 47,
      "outputs": [
        {
          "output_type": "execute_result",
          "data": {
            "text/plain": [
              "<table class=\"pizza\"><tr><td>Pizza Place</td><td>Orders</td> <td>Slices </td></tr><tr><td>Domino's Pizza</td><td>10</td><td>100</td></tr><tr><td>Little Caesars</td><td>12</td><td>144 </td></tr><tr><td>Papa John's </td><td>15 </td><td>165</td></tr></table>"
            ]
          },
          "metadata": {},
          "execution_count": 47
        }
      ]
    },
    {
      "cell_type": "markdown",
      "source": [
        "Downloading And Scraping The Contents Of A Web Page\n",
        "\n",
        "\n",
        "We Download the contents of the web page:"
      ],
      "metadata": {
        "id": "he7_ao_pY-X1"
      }
    },
    {
      "cell_type": "code",
      "source": [
        "url = \"http://www.ibm.com\""
      ],
      "metadata": {
        "id": "HUzWVt22Y91m"
      },
      "execution_count": 48,
      "outputs": []
    },
    {
      "cell_type": "markdown",
      "source": [
        "We use get to download the contents of the webpage in text format and store in a variable called data:"
      ],
      "metadata": {
        "id": "FtYkYIY5Zgxs"
      }
    },
    {
      "cell_type": "code",
      "source": [
        "data = requests.get(url).text"
      ],
      "metadata": {
        "id": "9lD824AFZis0"
      },
      "execution_count": 49,
      "outputs": []
    },
    {
      "cell_type": "markdown",
      "source": [
        "We create a BeautifulSoup object using the BeautifulSoup constructor"
      ],
      "metadata": {
        "id": "uBeJt2blZ1R4"
      }
    },
    {
      "cell_type": "code",
      "source": [
        "soup = BeautifulSoup(data, \"html5lib\") # create a soup object using the variable 'data'"
      ],
      "metadata": {
        "id": "duosSFnkZ50U"
      },
      "execution_count": 50,
      "outputs": []
    },
    {
      "cell_type": "markdown",
      "source": [
        "Scrape all links"
      ],
      "metadata": {
        "id": "l6uaCE_8aU0O"
      }
    },
    {
      "cell_type": "code",
      "source": [
        "for link in soup.find_all('a', href=True):\n",
        "\n",
        "    print(link.get('href'))"
      ],
      "metadata": {
        "colab": {
          "base_uri": "https://localhost:8080/"
        },
        "id": "X5t0NRD0aYxh",
        "outputId": "ba03f9fb-06b6-4119-a2bd-9996aa183400"
      },
      "execution_count": 51,
      "outputs": [
        {
          "output_type": "stream",
          "name": "stdout",
          "text": [
            "https://www.ibm.com/cloud?lnk=hpUSbt1\n"
          ]
        }
      ]
    },
    {
      "cell_type": "markdown",
      "source": [
        "Scrape all images Tags"
      ],
      "metadata": {
        "id": "2xpoFdE-axuc"
      }
    },
    {
      "cell_type": "code",
      "source": [
        "for link in soup.find_all('img'): # in html image is represented by the tag\n",
        "  print(link)\n",
        "  print(link.get('src'))"
      ],
      "metadata": {
        "colab": {
          "base_uri": "https://localhost:8080/"
        },
        "id": "kQWMGL-yaye6",
        "outputId": "192ac743-5f6b-4c92-9463-db07ce500b41"
      },
      "execution_count": 53,
      "outputs": [
        {
          "output_type": "stream",
          "name": "stdout",
          "text": [
            "<img alt=\"Portraits of IBM consultants\" class=\"bx--image__img\" id=\"image-321155096\" loading=\"lazy\" src=\"/content/dam/adobe-cms/default-images/home-consultants.component.crop-16by9-xl.ts=1703246307622.jpg/content/adobe-cms/us/en/homepage/_jcr_content/root/table_of_contents/simple_image\"/>\n",
            "/content/dam/adobe-cms/default-images/home-consultants.component.crop-16by9-xl.ts=1703246307622.jpg/content/adobe-cms/us/en/homepage/_jcr_content/root/table_of_contents/simple_image\n"
          ]
        }
      ]
    },
    {
      "cell_type": "markdown",
      "source": [
        "Scrape data from HTML tables"
      ],
      "metadata": {
        "id": "UKhEyxc5bPq1"
      }
    },
    {
      "cell_type": "code",
      "source": [
        "#The below url contains an html table with data about colors and color codes.\n",
        "url = \"https://cf-courses-data.s3.us.cloud-object-storage.appdomain.cloud/IBM-DA0321EN-SkillsNetwork/labs/datasets/HTMLColorCodes.html\""
      ],
      "metadata": {
        "id": "nTIKkxuraysb"
      },
      "execution_count": 54,
      "outputs": []
    },
    {
      "cell_type": "markdown",
      "source": [
        "Before proceeding to scrape a web site, you need to examine the contents and the way data is organized on the website. Open the above url in your browser and check how many rows and columns there are in the color table."
      ],
      "metadata": {
        "id": "E5n4AIjnbkKZ"
      }
    },
    {
      "cell_type": "code",
      "source": [
        "data_1 = requests.get(url).text"
      ],
      "metadata": {
        "id": "5RDV4v7eblUv"
      },
      "execution_count": 55,
      "outputs": []
    },
    {
      "cell_type": "code",
      "source": [
        "soup = BeautifulSoup(data_1, \"html5lib\")"
      ],
      "metadata": {
        "id": "SVpg8t9nbv-N"
      },
      "execution_count": 56,
      "outputs": []
    },
    {
      "cell_type": "code",
      "source": [
        "# find a html table in the web page\n",
        "table = soup.find('table')"
      ],
      "metadata": {
        "id": "_cWewyGlb8Os"
      },
      "execution_count": 57,
      "outputs": []
    },
    {
      "cell_type": "code",
      "source": [
        "# Get all rows from the table\n",
        "for row in table.find_all('tr'): # in html table row is represented by the tag <tr>\n",
        "    # Get all columns in each row.\n",
        "    cols = row.find_all('td') # in html a column is represented by the tag <td>\n",
        "    color_name = cols[2].string # store the value in column 3 as color_name\n",
        "    color_code = cols[3].text # store the value in column 4 as color_code\n",
        "    print(\"{}--->{}\".format(color_name,color_code))"
      ],
      "metadata": {
        "colab": {
          "base_uri": "https://localhost:8080/"
        },
        "id": "nkDZ8TyhcMJr",
        "outputId": "c02d0501-f0a4-42ff-da50-e844ea1e469a"
      },
      "execution_count": 58,
      "outputs": [
        {
          "output_type": "stream",
          "name": "stdout",
          "text": [
            "Color Name--->Hex Code#RRGGBB\n",
            "lightsalmon--->#FFA07A\n",
            "salmon--->#FA8072\n",
            "darksalmon--->#E9967A\n",
            "lightcoral--->#F08080\n",
            "coral--->#FF7F50\n",
            "tomato--->#FF6347\n",
            "orangered--->#FF4500\n",
            "gold--->#FFD700\n",
            "orange--->#FFA500\n",
            "darkorange--->#FF8C00\n",
            "lightyellow--->#FFFFE0\n",
            "lemonchiffon--->#FFFACD\n",
            "papayawhip--->#FFEFD5\n",
            "moccasin--->#FFE4B5\n",
            "peachpuff--->#FFDAB9\n",
            "palegoldenrod--->#EEE8AA\n",
            "khaki--->#F0E68C\n",
            "darkkhaki--->#BDB76B\n",
            "yellow--->#FFFF00\n",
            "lawngreen--->#7CFC00\n",
            "chartreuse--->#7FFF00\n",
            "limegreen--->#32CD32\n",
            "lime--->#00FF00\n",
            "forestgreen--->#228B22\n",
            "green--->#008000\n",
            "powderblue--->#B0E0E6\n",
            "lightblue--->#ADD8E6\n",
            "lightskyblue--->#87CEFA\n",
            "skyblue--->#87CEEB\n",
            "deepskyblue--->#00BFFF\n",
            "lightsteelblue--->#B0C4DE\n",
            "dodgerblue--->#1E90FF\n"
          ]
        }
      ]
    },
    {
      "cell_type": "markdown",
      "source": [
        "Scraping tables from a Web page using Pandas"
      ],
      "metadata": {
        "id": "1TB_mRiLcWGw"
      }
    },
    {
      "cell_type": "markdown",
      "source": [
        "Particularly for extracting tabular data from a web page, you may also use the read_html() method of the Pandas library."
      ],
      "metadata": {
        "id": "Vpf9BRtccY9Y"
      }
    },
    {
      "cell_type": "code",
      "source": [
        "#The below url contains an html table with data about colors and color codes.\n",
        "url = \"https://cf-courses-data.s3.us.cloud-object-storage.appdomain.cloud/IBM-DA0321EN-SkillsNetwork/labs/datasets/HTMLColorCodes.html\""
      ],
      "metadata": {
        "id": "oCnfx9IccU1w"
      },
      "execution_count": 59,
      "outputs": []
    },
    {
      "cell_type": "markdown",
      "source": [
        "You may extract all the tables from the given webpage simply by using the following commands."
      ],
      "metadata": {
        "id": "i1z5XHjHceuA"
      }
    },
    {
      "cell_type": "code",
      "source": [
        "import pandas as pd\n",
        "\n",
        "tables = pd.read_html(url)\n",
        "tables"
      ],
      "metadata": {
        "colab": {
          "base_uri": "https://localhost:8080/"
        },
        "id": "CJcYENP7cfzg",
        "outputId": "344ff6fa-bbc4-4ad8-8fe0-f194620c4fb2"
      },
      "execution_count": 60,
      "outputs": [
        {
          "output_type": "execute_result",
          "data": {
            "text/plain": [
              "[         0      1               2                 3                     4\n",
              " 0   Number  Color      Color Name  Hex Code #RRGGBB  Decimal Code (R,G,B)\n",
              " 1        1    NaN     lightsalmon           #FFA07A      rgb(255,160,122)\n",
              " 2        2    NaN          salmon           #FA8072      rgb(250,128,114)\n",
              " 3        3    NaN      darksalmon           #E9967A      rgb(233,150,122)\n",
              " 4        4    NaN      lightcoral           #F08080      rgb(240,128,128)\n",
              " 5        5    NaN           coral           #FF7F50       rgb(255,127,80)\n",
              " 6        6    NaN          tomato           #FF6347        rgb(255,99,71)\n",
              " 7        7    NaN       orangered           #FF4500         rgb(255,69,0)\n",
              " 8        8    NaN            gold           #FFD700        rgb(255,215,0)\n",
              " 9        9    NaN          orange           #FFA500        rgb(255,165,0)\n",
              " 10      10    NaN      darkorange           #FF8C00        rgb(255,140,0)\n",
              " 11      11    NaN     lightyellow           #FFFFE0      rgb(255,255,224)\n",
              " 12      12    NaN    lemonchiffon           #FFFACD      rgb(255,250,205)\n",
              " 13      13    NaN      papayawhip           #FFEFD5      rgb(255,239,213)\n",
              " 14      14    NaN        moccasin           #FFE4B5      rgb(255,228,181)\n",
              " 15      15    NaN       peachpuff           #FFDAB9      rgb(255,218,185)\n",
              " 16      16    NaN   palegoldenrod           #EEE8AA      rgb(238,232,170)\n",
              " 17      17    NaN           khaki           #F0E68C      rgb(240,230,140)\n",
              " 18      18    NaN       darkkhaki           #BDB76B      rgb(189,183,107)\n",
              " 19      19    NaN          yellow           #FFFF00        rgb(255,255,0)\n",
              " 20      20    NaN       lawngreen           #7CFC00        rgb(124,252,0)\n",
              " 21      21    NaN      chartreuse           #7FFF00        rgb(127,255,0)\n",
              " 22      22    NaN       limegreen           #32CD32        rgb(50,205,50)\n",
              " 23      23    NaN            lime           #00FF00          rgb(0.255.0)\n",
              " 24      24    NaN     forestgreen           #228B22        rgb(34,139,34)\n",
              " 25      25    NaN           green           #008000          rgb(0,128,0)\n",
              " 26      26    NaN      powderblue           #B0E0E6      rgb(176,224,230)\n",
              " 27      27    NaN       lightblue           #ADD8E6      rgb(173,216,230)\n",
              " 28      28    NaN    lightskyblue           #87CEFA      rgb(135,206,250)\n",
              " 29      29    NaN         skyblue           #87CEEB      rgb(135,206,235)\n",
              " 30      30    NaN     deepskyblue           #00BFFF        rgb(0,191,255)\n",
              " 31      31    NaN  lightsteelblue           #B0C4DE      rgb(176,196,222)\n",
              " 32      32    NaN      dodgerblue           #1E90FF       rgb(30,144,255)]"
            ]
          },
          "metadata": {},
          "execution_count": 60
        }
      ]
    },
    {
      "cell_type": "markdown",
      "source": [
        "tables is now a list of dataframes representing the tables from the web page, in the sequence of their appearance. In the current URL, there is only a single table, so the same can be accessed as shown below."
      ],
      "metadata": {
        "id": "n3632NBLct0f"
      }
    },
    {
      "cell_type": "code",
      "source": [
        "tables[0]"
      ],
      "metadata": {
        "colab": {
          "base_uri": "https://localhost:8080/",
          "height": 1000
        },
        "id": "47P_Vx9Xcl0Y",
        "outputId": "3c97e5fa-5263-4dd4-9d85-ba2cb7f70f21"
      },
      "execution_count": 64,
      "outputs": [
        {
          "output_type": "execute_result",
          "data": {
            "text/plain": [
              "         0      1               2                 3                     4\n",
              "0   Number  Color      Color Name  Hex Code #RRGGBB  Decimal Code (R,G,B)\n",
              "1        1    NaN     lightsalmon           #FFA07A      rgb(255,160,122)\n",
              "2        2    NaN          salmon           #FA8072      rgb(250,128,114)\n",
              "3        3    NaN      darksalmon           #E9967A      rgb(233,150,122)\n",
              "4        4    NaN      lightcoral           #F08080      rgb(240,128,128)\n",
              "5        5    NaN           coral           #FF7F50       rgb(255,127,80)\n",
              "6        6    NaN          tomato           #FF6347        rgb(255,99,71)\n",
              "7        7    NaN       orangered           #FF4500         rgb(255,69,0)\n",
              "8        8    NaN            gold           #FFD700        rgb(255,215,0)\n",
              "9        9    NaN          orange           #FFA500        rgb(255,165,0)\n",
              "10      10    NaN      darkorange           #FF8C00        rgb(255,140,0)\n",
              "11      11    NaN     lightyellow           #FFFFE0      rgb(255,255,224)\n",
              "12      12    NaN    lemonchiffon           #FFFACD      rgb(255,250,205)\n",
              "13      13    NaN      papayawhip           #FFEFD5      rgb(255,239,213)\n",
              "14      14    NaN        moccasin           #FFE4B5      rgb(255,228,181)\n",
              "15      15    NaN       peachpuff           #FFDAB9      rgb(255,218,185)\n",
              "16      16    NaN   palegoldenrod           #EEE8AA      rgb(238,232,170)\n",
              "17      17    NaN           khaki           #F0E68C      rgb(240,230,140)\n",
              "18      18    NaN       darkkhaki           #BDB76B      rgb(189,183,107)\n",
              "19      19    NaN          yellow           #FFFF00        rgb(255,255,0)\n",
              "20      20    NaN       lawngreen           #7CFC00        rgb(124,252,0)\n",
              "21      21    NaN      chartreuse           #7FFF00        rgb(127,255,0)\n",
              "22      22    NaN       limegreen           #32CD32        rgb(50,205,50)\n",
              "23      23    NaN            lime           #00FF00          rgb(0.255.0)\n",
              "24      24    NaN     forestgreen           #228B22        rgb(34,139,34)\n",
              "25      25    NaN           green           #008000          rgb(0,128,0)\n",
              "26      26    NaN      powderblue           #B0E0E6      rgb(176,224,230)\n",
              "27      27    NaN       lightblue           #ADD8E6      rgb(173,216,230)\n",
              "28      28    NaN    lightskyblue           #87CEFA      rgb(135,206,250)\n",
              "29      29    NaN         skyblue           #87CEEB      rgb(135,206,235)\n",
              "30      30    NaN     deepskyblue           #00BFFF        rgb(0,191,255)\n",
              "31      31    NaN  lightsteelblue           #B0C4DE      rgb(176,196,222)\n",
              "32      32    NaN      dodgerblue           #1E90FF       rgb(30,144,255)"
            ],
            "text/html": [
              "\n",
              "  <div id=\"df-be6eeecf-8eac-4359-8d0c-51f30bd35c54\" class=\"colab-df-container\">\n",
              "    <div>\n",
              "<style scoped>\n",
              "    .dataframe tbody tr th:only-of-type {\n",
              "        vertical-align: middle;\n",
              "    }\n",
              "\n",
              "    .dataframe tbody tr th {\n",
              "        vertical-align: top;\n",
              "    }\n",
              "\n",
              "    .dataframe thead th {\n",
              "        text-align: right;\n",
              "    }\n",
              "</style>\n",
              "<table border=\"1\" class=\"dataframe\">\n",
              "  <thead>\n",
              "    <tr style=\"text-align: right;\">\n",
              "      <th></th>\n",
              "      <th>0</th>\n",
              "      <th>1</th>\n",
              "      <th>2</th>\n",
              "      <th>3</th>\n",
              "      <th>4</th>\n",
              "    </tr>\n",
              "  </thead>\n",
              "  <tbody>\n",
              "    <tr>\n",
              "      <th>0</th>\n",
              "      <td>Number</td>\n",
              "      <td>Color</td>\n",
              "      <td>Color Name</td>\n",
              "      <td>Hex Code #RRGGBB</td>\n",
              "      <td>Decimal Code (R,G,B)</td>\n",
              "    </tr>\n",
              "    <tr>\n",
              "      <th>1</th>\n",
              "      <td>1</td>\n",
              "      <td>NaN</td>\n",
              "      <td>lightsalmon</td>\n",
              "      <td>#FFA07A</td>\n",
              "      <td>rgb(255,160,122)</td>\n",
              "    </tr>\n",
              "    <tr>\n",
              "      <th>2</th>\n",
              "      <td>2</td>\n",
              "      <td>NaN</td>\n",
              "      <td>salmon</td>\n",
              "      <td>#FA8072</td>\n",
              "      <td>rgb(250,128,114)</td>\n",
              "    </tr>\n",
              "    <tr>\n",
              "      <th>3</th>\n",
              "      <td>3</td>\n",
              "      <td>NaN</td>\n",
              "      <td>darksalmon</td>\n",
              "      <td>#E9967A</td>\n",
              "      <td>rgb(233,150,122)</td>\n",
              "    </tr>\n",
              "    <tr>\n",
              "      <th>4</th>\n",
              "      <td>4</td>\n",
              "      <td>NaN</td>\n",
              "      <td>lightcoral</td>\n",
              "      <td>#F08080</td>\n",
              "      <td>rgb(240,128,128)</td>\n",
              "    </tr>\n",
              "    <tr>\n",
              "      <th>5</th>\n",
              "      <td>5</td>\n",
              "      <td>NaN</td>\n",
              "      <td>coral</td>\n",
              "      <td>#FF7F50</td>\n",
              "      <td>rgb(255,127,80)</td>\n",
              "    </tr>\n",
              "    <tr>\n",
              "      <th>6</th>\n",
              "      <td>6</td>\n",
              "      <td>NaN</td>\n",
              "      <td>tomato</td>\n",
              "      <td>#FF6347</td>\n",
              "      <td>rgb(255,99,71)</td>\n",
              "    </tr>\n",
              "    <tr>\n",
              "      <th>7</th>\n",
              "      <td>7</td>\n",
              "      <td>NaN</td>\n",
              "      <td>orangered</td>\n",
              "      <td>#FF4500</td>\n",
              "      <td>rgb(255,69,0)</td>\n",
              "    </tr>\n",
              "    <tr>\n",
              "      <th>8</th>\n",
              "      <td>8</td>\n",
              "      <td>NaN</td>\n",
              "      <td>gold</td>\n",
              "      <td>#FFD700</td>\n",
              "      <td>rgb(255,215,0)</td>\n",
              "    </tr>\n",
              "    <tr>\n",
              "      <th>9</th>\n",
              "      <td>9</td>\n",
              "      <td>NaN</td>\n",
              "      <td>orange</td>\n",
              "      <td>#FFA500</td>\n",
              "      <td>rgb(255,165,0)</td>\n",
              "    </tr>\n",
              "    <tr>\n",
              "      <th>10</th>\n",
              "      <td>10</td>\n",
              "      <td>NaN</td>\n",
              "      <td>darkorange</td>\n",
              "      <td>#FF8C00</td>\n",
              "      <td>rgb(255,140,0)</td>\n",
              "    </tr>\n",
              "    <tr>\n",
              "      <th>11</th>\n",
              "      <td>11</td>\n",
              "      <td>NaN</td>\n",
              "      <td>lightyellow</td>\n",
              "      <td>#FFFFE0</td>\n",
              "      <td>rgb(255,255,224)</td>\n",
              "    </tr>\n",
              "    <tr>\n",
              "      <th>12</th>\n",
              "      <td>12</td>\n",
              "      <td>NaN</td>\n",
              "      <td>lemonchiffon</td>\n",
              "      <td>#FFFACD</td>\n",
              "      <td>rgb(255,250,205)</td>\n",
              "    </tr>\n",
              "    <tr>\n",
              "      <th>13</th>\n",
              "      <td>13</td>\n",
              "      <td>NaN</td>\n",
              "      <td>papayawhip</td>\n",
              "      <td>#FFEFD5</td>\n",
              "      <td>rgb(255,239,213)</td>\n",
              "    </tr>\n",
              "    <tr>\n",
              "      <th>14</th>\n",
              "      <td>14</td>\n",
              "      <td>NaN</td>\n",
              "      <td>moccasin</td>\n",
              "      <td>#FFE4B5</td>\n",
              "      <td>rgb(255,228,181)</td>\n",
              "    </tr>\n",
              "    <tr>\n",
              "      <th>15</th>\n",
              "      <td>15</td>\n",
              "      <td>NaN</td>\n",
              "      <td>peachpuff</td>\n",
              "      <td>#FFDAB9</td>\n",
              "      <td>rgb(255,218,185)</td>\n",
              "    </tr>\n",
              "    <tr>\n",
              "      <th>16</th>\n",
              "      <td>16</td>\n",
              "      <td>NaN</td>\n",
              "      <td>palegoldenrod</td>\n",
              "      <td>#EEE8AA</td>\n",
              "      <td>rgb(238,232,170)</td>\n",
              "    </tr>\n",
              "    <tr>\n",
              "      <th>17</th>\n",
              "      <td>17</td>\n",
              "      <td>NaN</td>\n",
              "      <td>khaki</td>\n",
              "      <td>#F0E68C</td>\n",
              "      <td>rgb(240,230,140)</td>\n",
              "    </tr>\n",
              "    <tr>\n",
              "      <th>18</th>\n",
              "      <td>18</td>\n",
              "      <td>NaN</td>\n",
              "      <td>darkkhaki</td>\n",
              "      <td>#BDB76B</td>\n",
              "      <td>rgb(189,183,107)</td>\n",
              "    </tr>\n",
              "    <tr>\n",
              "      <th>19</th>\n",
              "      <td>19</td>\n",
              "      <td>NaN</td>\n",
              "      <td>yellow</td>\n",
              "      <td>#FFFF00</td>\n",
              "      <td>rgb(255,255,0)</td>\n",
              "    </tr>\n",
              "    <tr>\n",
              "      <th>20</th>\n",
              "      <td>20</td>\n",
              "      <td>NaN</td>\n",
              "      <td>lawngreen</td>\n",
              "      <td>#7CFC00</td>\n",
              "      <td>rgb(124,252,0)</td>\n",
              "    </tr>\n",
              "    <tr>\n",
              "      <th>21</th>\n",
              "      <td>21</td>\n",
              "      <td>NaN</td>\n",
              "      <td>chartreuse</td>\n",
              "      <td>#7FFF00</td>\n",
              "      <td>rgb(127,255,0)</td>\n",
              "    </tr>\n",
              "    <tr>\n",
              "      <th>22</th>\n",
              "      <td>22</td>\n",
              "      <td>NaN</td>\n",
              "      <td>limegreen</td>\n",
              "      <td>#32CD32</td>\n",
              "      <td>rgb(50,205,50)</td>\n",
              "    </tr>\n",
              "    <tr>\n",
              "      <th>23</th>\n",
              "      <td>23</td>\n",
              "      <td>NaN</td>\n",
              "      <td>lime</td>\n",
              "      <td>#00FF00</td>\n",
              "      <td>rgb(0.255.0)</td>\n",
              "    </tr>\n",
              "    <tr>\n",
              "      <th>24</th>\n",
              "      <td>24</td>\n",
              "      <td>NaN</td>\n",
              "      <td>forestgreen</td>\n",
              "      <td>#228B22</td>\n",
              "      <td>rgb(34,139,34)</td>\n",
              "    </tr>\n",
              "    <tr>\n",
              "      <th>25</th>\n",
              "      <td>25</td>\n",
              "      <td>NaN</td>\n",
              "      <td>green</td>\n",
              "      <td>#008000</td>\n",
              "      <td>rgb(0,128,0)</td>\n",
              "    </tr>\n",
              "    <tr>\n",
              "      <th>26</th>\n",
              "      <td>26</td>\n",
              "      <td>NaN</td>\n",
              "      <td>powderblue</td>\n",
              "      <td>#B0E0E6</td>\n",
              "      <td>rgb(176,224,230)</td>\n",
              "    </tr>\n",
              "    <tr>\n",
              "      <th>27</th>\n",
              "      <td>27</td>\n",
              "      <td>NaN</td>\n",
              "      <td>lightblue</td>\n",
              "      <td>#ADD8E6</td>\n",
              "      <td>rgb(173,216,230)</td>\n",
              "    </tr>\n",
              "    <tr>\n",
              "      <th>28</th>\n",
              "      <td>28</td>\n",
              "      <td>NaN</td>\n",
              "      <td>lightskyblue</td>\n",
              "      <td>#87CEFA</td>\n",
              "      <td>rgb(135,206,250)</td>\n",
              "    </tr>\n",
              "    <tr>\n",
              "      <th>29</th>\n",
              "      <td>29</td>\n",
              "      <td>NaN</td>\n",
              "      <td>skyblue</td>\n",
              "      <td>#87CEEB</td>\n",
              "      <td>rgb(135,206,235)</td>\n",
              "    </tr>\n",
              "    <tr>\n",
              "      <th>30</th>\n",
              "      <td>30</td>\n",
              "      <td>NaN</td>\n",
              "      <td>deepskyblue</td>\n",
              "      <td>#00BFFF</td>\n",
              "      <td>rgb(0,191,255)</td>\n",
              "    </tr>\n",
              "    <tr>\n",
              "      <th>31</th>\n",
              "      <td>31</td>\n",
              "      <td>NaN</td>\n",
              "      <td>lightsteelblue</td>\n",
              "      <td>#B0C4DE</td>\n",
              "      <td>rgb(176,196,222)</td>\n",
              "    </tr>\n",
              "    <tr>\n",
              "      <th>32</th>\n",
              "      <td>32</td>\n",
              "      <td>NaN</td>\n",
              "      <td>dodgerblue</td>\n",
              "      <td>#1E90FF</td>\n",
              "      <td>rgb(30,144,255)</td>\n",
              "    </tr>\n",
              "  </tbody>\n",
              "</table>\n",
              "</div>\n",
              "    <div class=\"colab-df-buttons\">\n",
              "\n",
              "  <div class=\"colab-df-container\">\n",
              "    <button class=\"colab-df-convert\" onclick=\"convertToInteractive('df-be6eeecf-8eac-4359-8d0c-51f30bd35c54')\"\n",
              "            title=\"Convert this dataframe to an interactive table.\"\n",
              "            style=\"display:none;\">\n",
              "\n",
              "  <svg xmlns=\"http://www.w3.org/2000/svg\" height=\"24px\" viewBox=\"0 -960 960 960\">\n",
              "    <path d=\"M120-120v-720h720v720H120Zm60-500h600v-160H180v160Zm220 220h160v-160H400v160Zm0 220h160v-160H400v160ZM180-400h160v-160H180v160Zm440 0h160v-160H620v160ZM180-180h160v-160H180v160Zm440 0h160v-160H620v160Z\"/>\n",
              "  </svg>\n",
              "    </button>\n",
              "\n",
              "  <style>\n",
              "    .colab-df-container {\n",
              "      display:flex;\n",
              "      gap: 12px;\n",
              "    }\n",
              "\n",
              "    .colab-df-convert {\n",
              "      background-color: #E8F0FE;\n",
              "      border: none;\n",
              "      border-radius: 50%;\n",
              "      cursor: pointer;\n",
              "      display: none;\n",
              "      fill: #1967D2;\n",
              "      height: 32px;\n",
              "      padding: 0 0 0 0;\n",
              "      width: 32px;\n",
              "    }\n",
              "\n",
              "    .colab-df-convert:hover {\n",
              "      background-color: #E2EBFA;\n",
              "      box-shadow: 0px 1px 2px rgba(60, 64, 67, 0.3), 0px 1px 3px 1px rgba(60, 64, 67, 0.15);\n",
              "      fill: #174EA6;\n",
              "    }\n",
              "\n",
              "    .colab-df-buttons div {\n",
              "      margin-bottom: 4px;\n",
              "    }\n",
              "\n",
              "    [theme=dark] .colab-df-convert {\n",
              "      background-color: #3B4455;\n",
              "      fill: #D2E3FC;\n",
              "    }\n",
              "\n",
              "    [theme=dark] .colab-df-convert:hover {\n",
              "      background-color: #434B5C;\n",
              "      box-shadow: 0px 1px 3px 1px rgba(0, 0, 0, 0.15);\n",
              "      filter: drop-shadow(0px 1px 2px rgba(0, 0, 0, 0.3));\n",
              "      fill: #FFFFFF;\n",
              "    }\n",
              "  </style>\n",
              "\n",
              "    <script>\n",
              "      const buttonEl =\n",
              "        document.querySelector('#df-be6eeecf-8eac-4359-8d0c-51f30bd35c54 button.colab-df-convert');\n",
              "      buttonEl.style.display =\n",
              "        google.colab.kernel.accessAllowed ? 'block' : 'none';\n",
              "\n",
              "      async function convertToInteractive(key) {\n",
              "        const element = document.querySelector('#df-be6eeecf-8eac-4359-8d0c-51f30bd35c54');\n",
              "        const dataTable =\n",
              "          await google.colab.kernel.invokeFunction('convertToInteractive',\n",
              "                                                    [key], {});\n",
              "        if (!dataTable) return;\n",
              "\n",
              "        const docLinkHtml = 'Like what you see? Visit the ' +\n",
              "          '<a target=\"_blank\" href=https://colab.research.google.com/notebooks/data_table.ipynb>data table notebook</a>'\n",
              "          + ' to learn more about interactive tables.';\n",
              "        element.innerHTML = '';\n",
              "        dataTable['output_type'] = 'display_data';\n",
              "        await google.colab.output.renderOutput(dataTable, element);\n",
              "        const docLink = document.createElement('div');\n",
              "        docLink.innerHTML = docLinkHtml;\n",
              "        element.appendChild(docLink);\n",
              "      }\n",
              "    </script>\n",
              "  </div>\n",
              "\n",
              "\n",
              "<div id=\"df-216f7431-8e5a-4256-9681-60283602e246\">\n",
              "  <button class=\"colab-df-quickchart\" onclick=\"quickchart('df-216f7431-8e5a-4256-9681-60283602e246')\"\n",
              "            title=\"Suggest charts\"\n",
              "            style=\"display:none;\">\n",
              "\n",
              "<svg xmlns=\"http://www.w3.org/2000/svg\" height=\"24px\"viewBox=\"0 0 24 24\"\n",
              "     width=\"24px\">\n",
              "    <g>\n",
              "        <path d=\"M19 3H5c-1.1 0-2 .9-2 2v14c0 1.1.9 2 2 2h14c1.1 0 2-.9 2-2V5c0-1.1-.9-2-2-2zM9 17H7v-7h2v7zm4 0h-2V7h2v10zm4 0h-2v-4h2v4z\"/>\n",
              "    </g>\n",
              "</svg>\n",
              "  </button>\n",
              "\n",
              "<style>\n",
              "  .colab-df-quickchart {\n",
              "      --bg-color: #E8F0FE;\n",
              "      --fill-color: #1967D2;\n",
              "      --hover-bg-color: #E2EBFA;\n",
              "      --hover-fill-color: #174EA6;\n",
              "      --disabled-fill-color: #AAA;\n",
              "      --disabled-bg-color: #DDD;\n",
              "  }\n",
              "\n",
              "  [theme=dark] .colab-df-quickchart {\n",
              "      --bg-color: #3B4455;\n",
              "      --fill-color: #D2E3FC;\n",
              "      --hover-bg-color: #434B5C;\n",
              "      --hover-fill-color: #FFFFFF;\n",
              "      --disabled-bg-color: #3B4455;\n",
              "      --disabled-fill-color: #666;\n",
              "  }\n",
              "\n",
              "  .colab-df-quickchart {\n",
              "    background-color: var(--bg-color);\n",
              "    border: none;\n",
              "    border-radius: 50%;\n",
              "    cursor: pointer;\n",
              "    display: none;\n",
              "    fill: var(--fill-color);\n",
              "    height: 32px;\n",
              "    padding: 0;\n",
              "    width: 32px;\n",
              "  }\n",
              "\n",
              "  .colab-df-quickchart:hover {\n",
              "    background-color: var(--hover-bg-color);\n",
              "    box-shadow: 0 1px 2px rgba(60, 64, 67, 0.3), 0 1px 3px 1px rgba(60, 64, 67, 0.15);\n",
              "    fill: var(--button-hover-fill-color);\n",
              "  }\n",
              "\n",
              "  .colab-df-quickchart-complete:disabled,\n",
              "  .colab-df-quickchart-complete:disabled:hover {\n",
              "    background-color: var(--disabled-bg-color);\n",
              "    fill: var(--disabled-fill-color);\n",
              "    box-shadow: none;\n",
              "  }\n",
              "\n",
              "  .colab-df-spinner {\n",
              "    border: 2px solid var(--fill-color);\n",
              "    border-color: transparent;\n",
              "    border-bottom-color: var(--fill-color);\n",
              "    animation:\n",
              "      spin 1s steps(1) infinite;\n",
              "  }\n",
              "\n",
              "  @keyframes spin {\n",
              "    0% {\n",
              "      border-color: transparent;\n",
              "      border-bottom-color: var(--fill-color);\n",
              "      border-left-color: var(--fill-color);\n",
              "    }\n",
              "    20% {\n",
              "      border-color: transparent;\n",
              "      border-left-color: var(--fill-color);\n",
              "      border-top-color: var(--fill-color);\n",
              "    }\n",
              "    30% {\n",
              "      border-color: transparent;\n",
              "      border-left-color: var(--fill-color);\n",
              "      border-top-color: var(--fill-color);\n",
              "      border-right-color: var(--fill-color);\n",
              "    }\n",
              "    40% {\n",
              "      border-color: transparent;\n",
              "      border-right-color: var(--fill-color);\n",
              "      border-top-color: var(--fill-color);\n",
              "    }\n",
              "    60% {\n",
              "      border-color: transparent;\n",
              "      border-right-color: var(--fill-color);\n",
              "    }\n",
              "    80% {\n",
              "      border-color: transparent;\n",
              "      border-right-color: var(--fill-color);\n",
              "      border-bottom-color: var(--fill-color);\n",
              "    }\n",
              "    90% {\n",
              "      border-color: transparent;\n",
              "      border-bottom-color: var(--fill-color);\n",
              "    }\n",
              "  }\n",
              "</style>\n",
              "\n",
              "  <script>\n",
              "    async function quickchart(key) {\n",
              "      const quickchartButtonEl =\n",
              "        document.querySelector('#' + key + ' button');\n",
              "      quickchartButtonEl.disabled = true;  // To prevent multiple clicks.\n",
              "      quickchartButtonEl.classList.add('colab-df-spinner');\n",
              "      try {\n",
              "        const charts = await google.colab.kernel.invokeFunction(\n",
              "            'suggestCharts', [key], {});\n",
              "      } catch (error) {\n",
              "        console.error('Error during call to suggestCharts:', error);\n",
              "      }\n",
              "      quickchartButtonEl.classList.remove('colab-df-spinner');\n",
              "      quickchartButtonEl.classList.add('colab-df-quickchart-complete');\n",
              "    }\n",
              "    (() => {\n",
              "      let quickchartButtonEl =\n",
              "        document.querySelector('#df-216f7431-8e5a-4256-9681-60283602e246 button');\n",
              "      quickchartButtonEl.style.display =\n",
              "        google.colab.kernel.accessAllowed ? 'block' : 'none';\n",
              "    })();\n",
              "  </script>\n",
              "</div>\n",
              "\n",
              "    </div>\n",
              "  </div>\n"
            ]
          },
          "metadata": {},
          "execution_count": 64
        }
      ]
    },
    {
      "cell_type": "markdown",
      "source": [
        "**Web** **Scraping**"
      ],
      "metadata": {
        "id": "RTGJ6mlVySKQ"
      }
    },
    {
      "cell_type": "markdown",
      "source": [
        "Web scraping involves extracting information from web pages using Python. It can save time and automate data collection."
      ],
      "metadata": {
        "id": "jTmVCM_RyXqi"
      }
    },
    {
      "cell_type": "code",
      "source": [
        "# Import Beautiful Soup to parse web page content\n",
        "from bs4 import BeautifulSoup"
      ],
      "metadata": {
        "id": "rS5UslrYyYue"
      },
      "execution_count": 65,
      "outputs": []
    },
    {
      "cell_type": "markdown",
      "source": [
        "Fetching and Parsing HTML:\n",
        "\n",
        "To start web scraping, you need to fetch the HTML content of a webpage and parse it using Beautiful Soup. Here's a step-by-step example:"
      ],
      "metadata": {
        "id": "sS5vGli2ydBY"
      }
    },
    {
      "cell_type": "code",
      "source": [
        "import requests\n",
        "from bs4 import BeautifulSoup\n"
      ],
      "metadata": {
        "id": "0UiB9nfGyiBo"
      },
      "execution_count": 66,
      "outputs": []
    },
    {
      "cell_type": "code",
      "source": [
        "# specify the URL of the webpage you want to scrape\n",
        "url = 'https://en.wikipedia.org/wiki/IBM'"
      ],
      "metadata": {
        "id": "RDR8FMdMy0xR"
      },
      "execution_count": 67,
      "outputs": []
    },
    {
      "cell_type": "code",
      "source": [
        "# Send an HTTP GET request to the webpage\n",
        "response = requests.get(url)"
      ],
      "metadata": {
        "id": "utIfjKoCy2YB"
      },
      "execution_count": 68,
      "outputs": []
    },
    {
      "cell_type": "code",
      "source": [
        "# Store the HTM content in a variable\n",
        "html_content = response.text"
      ],
      "metadata": {
        "id": "_wOaXW6IzCC3"
      },
      "execution_count": 69,
      "outputs": []
    },
    {
      "cell_type": "code",
      "source": [
        "# Create a BeautifulSoup object to parse the HTML\n",
        "soup = BeautifulSoup(html_content, 'html.parser')"
      ],
      "metadata": {
        "id": "GCNAeUr5zQzR"
      },
      "execution_count": 70,
      "outputs": []
    },
    {
      "cell_type": "code",
      "source": [
        "# Display a snippet of the html content\n",
        "print(html_content[:500])"
      ],
      "metadata": {
        "colab": {
          "base_uri": "https://localhost:8080/"
        },
        "id": "Ax1SpAXSziVW",
        "outputId": "7c2719aa-4858-433d-8fb7-1461cdb15dd1"
      },
      "execution_count": 71,
      "outputs": [
        {
          "output_type": "stream",
          "name": "stdout",
          "text": [
            "<!DOCTYPE html>\n",
            "<html class=\"client-nojs vector-feature-language-in-header-enabled vector-feature-language-in-main-page-header-disabled vector-feature-sticky-header-disabled vector-feature-page-tools-pinned-disabled vector-feature-toc-pinned-clientpref-1 vector-feature-main-menu-pinned-disabled vector-feature-limited-width-clientpref-1 vector-feature-limited-width-content-enabled vector-feature-zebra-design-enabled vector-feature-custom-font-size-clientpref-0 vector-feature-client-preferences-di\n"
          ]
        }
      ]
    },
    {
      "cell_type": "markdown",
      "source": [
        "Navigating the HTML Structure:\n",
        "\n",
        "BeautifulSoup represents HTML content as a tree-like structure, allowing for easy navigation. You can use methods like find_all to filter and extract specific HTML elements. For example, to find all anchor tags () and print their text:"
      ],
      "metadata": {
        "id": "c0Vq8uJKzvut"
      }
    },
    {
      "cell_type": "code",
      "source": [
        "# Find all <a> tags (anchor tags) in the HTML\n",
        "links = soup.find_all('a')\n",
        "\n",
        "# Iterate through the list of links and print their text\n",
        "for link in links:\n",
        "    print(link.text)"
      ],
      "metadata": {
        "colab": {
          "base_uri": "https://localhost:8080/"
        },
        "id": "iexgaNsEzxgn",
        "outputId": "b0560c51-85be-47e6-bc5a-b72aba149013"
      },
      "execution_count": 74,
      "outputs": [
        {
          "output_type": "stream",
          "name": "stdout",
          "text": [
            "Jump to content\n",
            "Main page\n",
            "Contents\n",
            "Current events\n",
            "Random article\n",
            "About Wikipedia\n",
            "Contact us\n",
            "Donate\n",
            "Help\n",
            "Learn to edit\n",
            "Community portal\n",
            "Recent changes\n",
            "Upload file\n",
            "\n",
            "\n",
            "\n",
            "\n",
            "\n",
            "\n",
            "\n",
            "\n",
            "Search\n",
            "\n",
            "Create account\n",
            "Log in\n",
            " Create account\n",
            " Log in\n",
            "learn more\n",
            "Contributions\n",
            "Talk\n",
            "\n",
            "(Top)\n",
            "\n",
            "\n",
            "\n",
            "1History\n",
            "\n",
            "\n",
            "\n",
            "2Headquarters and offices\n",
            "\n",
            "\n",
            "\n",
            "3Finance\n",
            "\n",
            "\n",
            "\n",
            "4Products and services\n",
            "\n",
            "\n",
            "\n",
            "5Research\n",
            "\n",
            "\n",
            "\n",
            "6Brand and reputation\n",
            "\n",
            "\n",
            "\n",
            "7People and culture\n",
            "\n",
            "\n",
            "\n",
            "7.1Employees\n",
            "\n",
            "\n",
            "\n",
            "7.1.1IBM alumni\n",
            "\n",
            "\n",
            "\n",
            "7.2Board and shareholders\n",
            "\n",
            "\n",
            "\n",
            "8See also\n",
            "\n",
            "\n",
            "\n",
            "9References\n",
            "\n",
            "\n",
            "\n",
            "10Further reading\n",
            "\n",
            "\n",
            "\n",
            "11External links\n",
            "\n",
            "Afrikaans\n",
            "Alemannisch\n",
            "العربية\n",
            "Asturianu\n",
            "Azərbaycanca\n",
            "تۆرکجه\n",
            "বাংলা\n",
            "Bân-lâm-gú\n",
            "Башҡортса\n",
            "Беларуская\n",
            "Беларуская (тарашкевіца)\n",
            "Български\n",
            "Bosanski\n",
            "Català\n",
            "Чӑвашла\n",
            "Čeština\n",
            "Dansk\n",
            "Deutsch\n",
            "Eesti\n",
            "Ελληνικά\n",
            "Español\n",
            "Esperanto\n",
            "Euskara\n",
            "فارسی\n",
            "Français\n",
            "Gaeilge\n",
            "Galego\n",
            "Gĩkũyũ\n",
            "한국어\n",
            "Հայերեն\n",
            "हिन्दी\n",
            "Hrvatski\n",
            "Ido\n",
            "Bahasa Indonesia\n",
            "Interlingue\n",
            "Íslenska\n",
            "Italiano\n",
            "עברית\n",
            "Jawa\n",
            "ಕನ್ನಡ\n",
            "ქართული\n",
            "Қазақша\n",
            "Kiswahili\n",
            "Kurdî\n",
            "Кыргызча\n",
            "Latina\n",
            "Latviešu\n",
            "Lëtzebuergesch\n",
            "Lietuvių\n",
            "Magyar\n",
            "मैथिली\n",
            "Македонски\n",
            "മലയാളം\n",
            "मराठी\n",
            "مصرى\n",
            "Bahasa Melayu\n",
            "Монгол\n",
            "Nederlands\n",
            "नेपाली\n",
            "日本語\n",
            "Norsk bokmål\n",
            "Norsk nynorsk\n",
            "Occitan\n",
            "ଓଡ଼ିଆ\n",
            "Oʻzbekcha / ўзбекча\n",
            "ਪੰਜਾਬੀ\n",
            "پنجابی\n",
            "Piemontèis\n",
            "Polski\n",
            "Português\n",
            "Qaraqalpaqsha\n",
            "Română\n",
            "Runa Simi\n",
            "Русский\n",
            "Саха тыла\n",
            "Scots\n",
            "Shqip\n",
            "සිංහල\n",
            "Simple English\n",
            "Slovenčina\n",
            "Slovenščina\n",
            "کوردی\n",
            "Српски / srpski\n",
            "Srpskohrvatski / српскохрватски\n",
            "Suomi\n",
            "Svenska\n",
            "Tagalog\n",
            "தமிழ்\n",
            "Татарча / tatarça\n",
            "ไทย\n",
            "Тоҷикӣ\n",
            "Türkçe\n",
            "Українська\n",
            "اردو\n",
            "Tiếng Việt\n",
            "Winaray\n",
            "吴语\n",
            "ייִדיש\n",
            "粵語\n",
            "中文\n",
            "Edit links\n",
            "Article\n",
            "Talk\n",
            "Read\n",
            "Edit\n",
            "View history\n",
            "Read\n",
            "Edit\n",
            "View history\n",
            "What links here\n",
            "Related changes\n",
            "Upload file\n",
            "Special pages\n",
            "Permanent link\n",
            "Page information\n",
            "Cite this page\n",
            "Get shortened URL\n",
            "Wikidata item\n",
            "Download as PDF\n",
            "Printable version\n",
            "Wikimedia Commons\n",
            "Wikinews\n",
            "Wikiquote\n",
            "IBM (disambiguation)\n",
            "Big Blue (disambiguation)\n",
            "\n",
            "Paul Rand\n",
            "Trade name\n",
            "Computing-Tabulating-Recording Company\n",
            "Public\n",
            "Traded as\n",
            "NYSE\n",
            "IBM\n",
            "DJIA\n",
            "S&P 100\n",
            "S&P 500\n",
            "ISIN\n",
            "Information technology\n",
            "Bundy Manufacturing Company\n",
            "Computing Scale Company of America\n",
            "International Time Recording Company\n",
            "Tabulating Machine Company\n",
            "Computing-Tabulating-Recording Company\n",
            "Computing-Tabulating-Recording Company\n",
            "Endicott, New York\n",
            "[1]\n",
            "Herman Hollerith\n",
            "Charles Ranlett Flint\n",
            "Thomas J. Watson, Sr.\n",
            "Armonk, New York\n",
            "United States\n",
            "[2]\n",
            "Arvind Krishna\n",
            "[3]\n",
            "Gary Cohn\n",
            "[4]\n",
            "Automation\n",
            "Robotics\n",
            "Artificial intelligence\n",
            "Cloud computing\n",
            "Consulting\n",
            "Blockchain\n",
            "Computer hardware\n",
            "Software\n",
            "Quantum computing\n",
            "IBM Cloud\n",
            "IBM Cognos Analytics\n",
            "IBM Planning Analytics\n",
            "SQL\n",
            "Watson\n",
            "Information Management Software\n",
            "SPSS\n",
            "ILOG\n",
            "Tivoli Software\n",
            "WebSphere\n",
            "alphaWorks\n",
            "Mashup Center\n",
            "PureQuery\n",
            "Fortran\n",
            "IBM Quantum Experience\n",
            "Mainframe\n",
            "Power Systems\n",
            "IBM storage\n",
            "IBM Q System One\n",
            "Full List\n",
            "Outsourcing\n",
            "Professional services\n",
            "Managed services\n",
            "US$\n",
            "[5]\n",
            "Operating income\n",
            "[5]\n",
            "Net income\n",
            "[5]\n",
            "Total assets\n",
            "[5]\n",
            "Total equity\n",
            "[5]\n",
            "[5]\n",
            "Subsidiaries\n",
            "List of subsidiaries\n",
            "www.ibm.com\n",
            "\n",
            "doing business as\n",
            "[6]\n",
            "multinational\n",
            "technology corporation\n",
            "Armonk, New York\n",
            "[7]\n",
            "[8]\n",
            "middleware\n",
            "hosting\n",
            "consulting services\n",
            "mainframe computers\n",
            "nanotechnology\n",
            "[9]\n",
            "[10]\n",
            "[11]\n",
            "Computing-Tabulating-Recording Company\n",
            "holding company\n",
            "punch-card tabulating systems\n",
            "IBM mainframe\n",
            "System/360\n",
            "computing platform\n",
            "[12]\n",
            "multipurpose microcomputer\n",
            "IBM Personal Computer\n",
            "commodity production\n",
            "Lenovo Group\n",
            "supercomputers\n",
            "consistently ranked\n",
            "[12]\n",
            "[13]\n",
            "automated teller machine\n",
            "dynamic random-access memory\n",
            "floppy disk\n",
            "hard disk drive\n",
            "magnetic stripe card\n",
            "relational database\n",
            "SQL programming language\n",
            "UPC barcode\n",
            "[14]\n",
            "publicly traded company\n",
            "Dow Jones Industrial Average\n",
            "world's largest employers\n",
            "[15]\n",
            "[16]\n",
            "[update]\n",
            "Fortune 500\n",
            "[15]\n",
            "[17]\n",
            "edit\n",
            "History of IBM\n",
            "Endicott, New York\n",
            "[18]\n",
            "[8]\n",
            "[19]\n",
            "[20]\n",
            "Herman Hollerith\n",
            "Electric Tabulating Machine\n",
            "[21]\n",
            "Willard Bundy\n",
            "time clock\n",
            "[22]\n",
            "amalgamated\n",
            "Charles Ranlett Flint\n",
            "Computing-Tabulating-Recording Company\n",
            "[1]\n",
            "[23]\n",
            "Binghamton\n",
            "Dayton, Ohio\n",
            "Detroit, Michigan\n",
            "Washington, D.C.\n",
            "Toronto\n",
            "citation needed\n",
            "Thomas J. Watson, Sr.\n",
            "National Cash Register Company\n",
            "John Henry Patterson\n",
            "[24]\n",
            "antitrust\n",
            "[25]\n",
            "[26]\n",
            "[27]\n",
            "[28]\n",
            "THINK\n",
            "[27]\n",
            "[27]\n",
            "[29]\n",
            "[30]\n",
            "\n",
            "NACA\n",
            "IBM type 704\n",
            "Nazis\n",
            "Holocaust\n",
            "[31]\n",
            "[32]\n",
            "[33]\n",
            "Automatic Sequence Controlled Calculator\n",
            "IBM 701\n",
            "IBM 305 RAMAC\n",
            "7000\n",
            "1400\n",
            "artificial intelligence\n",
            "Arthur L. Samuel\n",
            "Poughkeepsie\n",
            "IBM 704\n",
            "FORTRAN\n",
            "SABRE reservation system\n",
            "American Airlines\n",
            "Selectric\n",
            "\n",
            "IBM System/360\n",
            "University of Michigan\n",
            "\n",
            "Saturn V Instrument Unit\n",
            "IBM System/360\n",
            "IBM System/370\n",
            "IBM mainframe\n",
            "mainframe computer\n",
            "OS/VS1\n",
            "MVS\n",
            "CICS\n",
            "[34]\n",
            "Sherman Antitrust Act\n",
            "[35]\n",
            "Forrest Parry\n",
            "magnetic stripe card\n",
            "George J. Laurer\n",
            "Universal Product Code\n",
            "[36]\n",
            "World Bank\n",
            "financial swaps\n",
            "[37]\n",
            "IBM PC\n",
            "[38]\n",
            "[39]\n",
            "AdStar\n",
            "Lexmark\n",
            "[40]\n",
            "Clayton & Dubilier\n",
            "leveraged buyout\n",
            "[41]\n",
            "[42]\n",
            "[43]\n",
            "[44]\n",
            "[45]\n",
            "Ambra Computer Corporation\n",
            "clone\n",
            "PowerPC\n",
            "workstations\n",
            "[46]\n",
            "[47]\n",
            "[48]\n",
            "Lou Gerstner\n",
            "RJR Nabisco\n",
            "[49]\n",
            "PwC\n",
            "PwC\n",
            "IBM Global Services\n",
            "[50]\n",
            "[51]\n",
            "\n",
            "hard-disk drive\n",
            "DRAM\n",
            "UPC bar code\n",
            "magnetic stripe card\n",
            "[52]\n",
            "Compaq\n",
            "Dell\n",
            "[53]\n",
            "[54]\n",
            "LG\n",
            "South Korean\n",
            "[55]\n",
            "[56]\n",
            "[57]\n",
            "[58]\n",
            "Xnote\n",
            "[59]\n",
            "sold all of its personal computer business\n",
            "Lenovo\n",
            "[60]\n",
            "SPSS Inc.\n",
            "Blue Gene\n",
            "National Medal of Technology and Innovation\n",
            "Barack Obama\n",
            "Watson\n",
            "Jeopardy!\n",
            "Kenexa\n",
            "[61]\n",
            "web hosting service\n",
            "[62]\n",
            "Davao City\n",
            "[63]\n",
            "x86\n",
            "[64]\n",
            "Power ISA\n",
            "Apple Inc.\n",
            "[65]\n",
            "[66]\n",
            "[67]\n",
            "[68]\n",
            "Tencent\n",
            "[69]\n",
            "Cisco\n",
            "[70]\n",
            "UnderArmour\n",
            "[71]\n",
            "Box\n",
            "[72]\n",
            "Microsoft\n",
            "[73]\n",
            "VMware\n",
            "[74]\n",
            "CSC\n",
            "[75]\n",
            "Macy's\n",
            "[76]\n",
            "Sesame Workshop\n",
            "[77]\n",
            "Sesame Street\n",
            "Salesforce.com\n",
            "[78]\n",
            "[79]\n",
            "Cleversafe\n",
            "The Weather Company\n",
            "Weather.com\n",
            "[80]\n",
            "[81]\n",
            "A Boy and His Atom\n",
            "Ustream\n",
            "[82]\n",
            "[83]\n",
            "[84]\n",
            "Groupon\n",
            "[85]\n",
            "The Weather Company\n",
            "[86]\n",
            "Red Hat\n",
            "[87]\n",
            "[88]\n",
            "[89]\n",
            "[90]\n",
            "[91]\n",
            "Kyndryl\n",
            "[92]\n",
            "[93]\n",
            "[94]\n",
            "[95]\n",
            "[96]\n",
            "[97]\n",
            "[98]\n",
            "[99]\n",
            "Russian invasion of Ukraine\n",
            "[100]\n",
            "[101]\n",
            "[102]\n",
            "[103]\n",
            "[104]\n",
            "Software AG\n",
            "webMethods\n",
            "[105]\n",
            "edit\n",
            "\n",
            "Armonk, New York\n",
            "\n",
            "Armonk, New York\n",
            "[106]\n",
            "[107]\n",
            "[108]\n",
            "[109]\n",
            "[110]\n",
            "[update]\n",
            "[2]\n",
            "IBM Watson\n",
            "Astor Place\n",
            "Austin, Texas\n",
            "Research Triangle Park (Raleigh-Durham), North Carolina\n",
            "Rochester, Minnesota\n",
            "Silicon Valley, California\n",
            "1250 René-Lévesque\n",
            "One Atlantic Center\n",
            "Pangu Plaza\n",
            "[111]\n",
            "Beijing National Stadium (\"Bird's Nest\")\n",
            "2008 Summer Olympics\n",
            "IBM India Private Limited\n",
            "Bangalore\n",
            "Coimbatore\n",
            "Chennai\n",
            "Kochi\n",
            "Ahmedabad\n",
            "Delhi\n",
            "Kolkata\n",
            "Mumbai\n",
            "Pune\n",
            "Gurugram\n",
            "Noida\n",
            "Bhubaneshwar\n",
            "Surat\n",
            "Visakhapatnam\n",
            "Hyderabad\n",
            "Bangalore\n",
            "Jamshedpur\n",
            "IBM Rome Software Lab\n",
            "Hursley House\n",
            "330 North Wabash\n",
            "Cambridge Scientific Center\n",
            "IBM Toronto Software Lab\n",
            "IBM Building (Seattle)\n",
            "IBM Hakozaki Facility\n",
            "IBM Yamato Facility\n",
            "IBM Canada Head Office Building\n",
            "[112]\n",
            "IBM Somers Office Complex\n",
            "Spango Valley\n",
            "Tour Descartes\n",
            "Marcel Breuer\n",
            "Eero Saarinen\n",
            "Ludwig Mies van der Rohe\n",
            "I.M. Pei\n",
            "Ricardo Legorreta\n",
            "Honor Award\n",
            "National Building Museum\n",
            "[113]\n",
            "United States Environmental Protection Agency\n",
            "Fortune 500\n",
            "commuter\n",
            "[114]\n",
            "Endicott, New York\n",
            "[115]\n",
            "[116]\n",
            "edit\n",
            "Kyndryl\n",
            "[117]\n",
            "[118]\n",
            "Fortune 500\n",
            "[119]\n",
            "[120]\n",
            "[121]\n",
            "[122]\n",
            "edit\n",
            "List of IBM products\n",
            "\n",
            "Blue Gene\n",
            "National Medal of Technology and Innovation\n",
            "[update]\n",
            "cloud computing\n",
            "analytics\n",
            "Internet of things\n",
            "[123]\n",
            "IT infrastructure\n",
            "mobile\n",
            "[124]\n",
            "cybersecurity\n",
            "[125]\n",
            "IBM Cloud\n",
            "infrastructure as a service\n",
            "software as a service\n",
            "platform as a service\n",
            "cloud delivery models\n",
            "Bluemix\n",
            "SoftLayer\n",
            "dedicated server\n",
            "managed hosting\n",
            "cloud computing\n",
            "[126]\n",
            "cryptographic splitting\n",
            "[127]\n",
            "[128]\n",
            "Hardware\n",
            "Power microprocessors\n",
            "Xbox 360\n",
            "[129]\n",
            "PlayStation 3\n",
            "Nintendo\n",
            "Wii U\n",
            "[130]\n",
            "[131]\n",
            "Secure Blue\n",
            "[132]\n",
            "TrueNorth\n",
            "neuromorphic\n",
            "CMOS\n",
            "integrated circuit\n",
            "[133]\n",
            "all-flash arrays\n",
            "[134]\n",
            "IT outsourcing\n",
            "data centers\n",
            "[135]\n",
            "IBM Developer\n",
            "SPSS\n",
            "statistical analysis\n",
            "Kenexa\n",
            "retention\n",
            "buzzword\n",
            "BrassRing\n",
            "[136]\n",
            "The Weather Company\n",
            "weather.com\n",
            "Weather Underground\n",
            "[137]\n",
            "Smarter Planet\n",
            "sustainable development\n",
            "[138]\n",
            "[139]\n",
            "smart grids\n",
            "[140]\n",
            "water management\n",
            "[141]\n",
            "[142]\n",
            "[143]\n",
            "developerWorks\n",
            "software developers\n",
            "[144]\n",
            "IBM Watson\n",
            "natural language processing\n",
            "unstructured data\n",
            "[145]\n",
            "Jeopardy!\n",
            "Ken Jennings\n",
            "Brad Rutter\n",
            "Memorial Sloan Kettering Cancer Center\n",
            "oncology\n",
            "melanoma\n",
            "[146]\n",
            "[147]\n",
            "\n",
            "IBM Q System One\n",
            "IBM Q System One\n",
            "[148]\n",
            "New York City Police Department\n",
            "IBM Cognos Analytics\n",
            "CompStat\n",
            "[149]\n",
            "[150]\n",
            "[151]\n",
            "[152]\n",
            "Amazon Web Services\n",
            "[153]\n",
            "[154]\n",
            "Lexmark\n",
            "ThinkPad\n",
            "ThinkCentre\n",
            "Lenovo\n",
            "fabless\n",
            "semiconductors\n",
            "GlobalFoundries\n",
            "Kyndryl\n",
            "[155]\n",
            "[156]\n",
            "Turbonomic\n",
            "[157]\n",
            "Watson Health\n",
            "Francisco Partners\n",
            "[158]\n",
            "Rapidus\n",
            "[159]\n",
            "[160]\n",
            "edit\n",
            "\n",
            "Thomas J. Watson Research Center\n",
            "Yorktown Heights, New York\n",
            "\n",
            "IBM Fellow\n",
            "Benoit Mandelbrot\n",
            "fractal geometry\n",
            "Columbia University\n",
            "IBM Research\n",
            "[161]\n",
            "Thomas J. Watson Research Center\n",
            "Almaden lab\n",
            "Australia lab\n",
            "Brazil lab\n",
            "Haifa lab\n",
            "Bangalore\n",
            "Tokyo lab\n",
            "Zurichlab\n",
            "Nairobi\n",
            "R&D\n",
            "[162]\n",
            "Watson\n",
            "[163]\n",
            "Open Source Initiative\n",
            "Linux\n",
            "[164]\n",
            "Linux Technology Center\n",
            "Linux kernel\n",
            "[165]\n",
            "open-source licenses\n",
            "platform-independent\n",
            "software framework\n",
            "Eclipse\n",
            "[166]\n",
            "ICU\n",
            "Java\n",
            "relational database management system\n",
            "Apache Derby\n",
            "open source\n",
            "SCO v. IBM\n",
            "inventions\n",
            "automated teller machine (ATM)\n",
            "dynamic random access memory (DRAM)\n",
            "electronic keypunch\n",
            "financial swap\n",
            "floppy disk\n",
            "hard disk drive\n",
            "magnetic stripe card\n",
            "relational database\n",
            "RISC\n",
            "SABRE airline reservation system\n",
            "SQL\n",
            "Universal Product Code (UPC)\n",
            "virtual machine\n",
            "scanning tunneling microscope\n",
            "individual xenon atoms\n",
            "[167]\n",
            "patents\n",
            "patents\n",
            "[9]\n",
            "Leo Esaki\n",
            "Gerd Binnig\n",
            "Heinrich Rohrer\n",
            "scanning tunneling microscope\n",
            "[168]\n",
            "Georg Bednorz\n",
            "Alex Müller\n",
            "superconductivity\n",
            "Turing Award\n",
            "Frances E. Allen\n",
            "[169]\n",
            "National Medals of Technology (USA)\n",
            "National Medals of Science (USA)\n",
            "edit\n",
            "\n",
            "John F. Kennedy International Airport\n",
            "[170]\n",
            "[171]\n",
            "dress code\n",
            "[170]\n",
            "[172]\n",
            "graphic designer\n",
            "Paul Rand\n",
            "[173]\n",
            "Helvetica\n",
            "IBM Plex\n",
            "Masters Tournament\n",
            "major championships\n",
            "iPhone\n",
            "[174]\n",
            "Ginni Rometty\n",
            "Augusta National Golf Club\n",
            "[175]\n",
            "U.S. Open\n",
            "Wimbledon\n",
            "[176]\n",
            "Olympic Games\n",
            "[177]\n",
            "National Football League\n",
            "[178]\n",
            "[179]\n",
            "Fortune\n",
            "green company\n",
            "Newsweek\n",
            "[180]\n",
            "Barron's\n",
            "[181]\n",
            "Fortune\n",
            "Fast Company\n",
            "technology consulting\n",
            "Vault\n",
            "[182]\n",
            "[183]\n",
            "Drucker Institute\n",
            "[184]\n",
            "2022 Russian invasion of Ukraine\n",
            "Polish Humanitarian Action\n",
            "People in Need\n",
            "[185]\n",
            "ESG\n",
            "CO2e emissions\n",
            "[186]\n",
            "[187]\n",
            "edit\n",
            "edit\n",
            "List of IBM CEOs\n",
            "\n",
            "\n",
            "IBM Watson\n",
            "Jeopardy!\n",
            "group life insurance\n",
            "Thomas J. Watson, Jr.\n",
            "Brown vs. Board of Education\n",
            "Civil Rights Act of 1964\n",
            "Human Rights Campaign\n",
            "[188]\n",
            "health benefits\n",
            "genetic information\n",
            "Working Mother\n",
            "[189]\n",
            "human resources\n",
            "[190]\n",
            "humanitarian work\n",
            "[191]\n",
            "interns\n",
            "Extreme Blue\n",
            "[192]\n",
            "[193]\n",
            "Master Inventor\n",
            "IBM Fellow\n",
            "[194]\n",
            "Louis V. Gerstner Jr.\n",
            "[195]\n",
            "[196]\n",
            "[197]\n",
            "[198]\n",
            "[199]\n",
            "[200]\n",
            "American football\n",
            "X-League\n",
            "Big Blue\n",
            "[201]\n",
            "Mac\n",
            "PC\n",
            "Linux distribution\n",
            "[202]\n",
            "[203]\n",
            "edit\n",
            "Apple Inc.\n",
            "Tim Cook\n",
            "[204]\n",
            "EDS\n",
            "Ross Perot\n",
            "Microsoft\n",
            "John W. Thompson\n",
            "SAP\n",
            "Hasso Plattner\n",
            "Gartner\n",
            "Gideon Gartner\n",
            "Advanced Micro Devices (AMD)\n",
            "Lisa Su\n",
            "[205]\n",
            "Cadence Design Systems\n",
            "Anirudh Devgan\n",
            "[206]\n",
            "Citizens Financial Group\n",
            "Ellen Alemany\n",
            "Yahoo!\n",
            "Alfred Amoroso\n",
            "AT&T\n",
            "C. Michael Armstrong\n",
            "Xerox Corporation\n",
            "David T. Kearns\n",
            "G. Richard Thoman\n",
            "[207]\n",
            "Fair Isaac Corporation\n",
            "Mark N. Greene\n",
            "[208]\n",
            "Citrix Systems\n",
            "Ed Iacobucci\n",
            "Lenovo\n",
            "Steve Ward\n",
            "Teradata\n",
            "Kenneth Simonds\n",
            "Patricia Roberts Harris\n",
            "United States Secretary of Housing and Urban Development\n",
            "[209]\n",
            "Samuel K. Skinner\n",
            "U.S. Secretary of Transportation\n",
            "White House Chief of Staff\n",
            "Mack Mattingly\n",
            "Thom Tillis\n",
            "Scott Walker\n",
            "[210]\n",
            "Arthur K. Watson\n",
            "Todd Akin\n",
            "[211]\n",
            "Glenn Andrews\n",
            "Robert Garcia\n",
            "Katherine Harris\n",
            "[212]\n",
            "Amo Houghton\n",
            "Jim Ross Lightfoot\n",
            "Thomas J. Manton\n",
            "Donald W. Riegle Jr.\n",
            "Ed Zschau\n",
            "NASA\n",
            "Michael J. Massimino\n",
            "Canadian astronaut\n",
            "Governor General\n",
            "Julie Payette\n",
            "Dave Matthews\n",
            "[213]\n",
            "Harvey Mudd College\n",
            "Maria Klawe\n",
            "Western Governors University\n",
            "Robert Mendenhall\n",
            "University of Kentucky\n",
            "Lee T. Todd Jr.\n",
            "NFL\n",
            "Bill Carollo\n",
            "[214]\n",
            "Rangers F.C.\n",
            "John McClelland\n",
            "Nobel Prize in Literature\n",
            "J. M. Coetzee\n",
            "edit\n",
            "Anthem\n",
            "Dow Chemical\n",
            "Johnson and Johnson\n",
            "Royal Dutch Shell\n",
            "UPS\n",
            "Vanguard\n",
            "Cornell University\n",
            "U.S. Navy admiral\n",
            "[215]\n",
            "Warren Buffett\n",
            "holding company\n",
            "Berkshire Hathaway\n",
            "[216]\n",
            "[217]\n",
            "edit\n",
            "Companies portal\n",
            "IBM SkillsBuild\n",
            "List of electronics brands\n",
            "List of largest Internet companies\n",
            "List of largest manufacturing companies by revenue\n",
            "Tech companies in the New York City metropolitan region\n",
            "Top 100 US Federal Contractors\n",
            "edit\n",
            "a\n",
            "b\n",
            "Appendix to Hearings Before the Committee on Patents, House of Representatives, Seventy-Fourth Congress, on H. R. 4523, Part III\n",
            "archived\n",
            "a\n",
            "b\n",
            "\"IBM Is Blowing Up Its Annual Performance Review\"\n",
            "Archived\n",
            "^\n",
            "\"IBM – Arvind Krishna – Chief Executive Officer\"\n",
            "Archived\n",
            "^\n",
            "\"IBM Newsroom - Gary Cohn\"\n",
            "a\n",
            "b\n",
            "c\n",
            "d\n",
            "e\n",
            "f\n",
            "\"IBM Reports 2022 Fourth-Quarter and Full-Year Results\"\n",
            "Archived\n",
            "^\n",
            "\"IBM100 - The Making of International Business Machines\"\n",
            "^\n",
            "\"Trust and responsibility. Earned and practiced daily\"\n",
            "a\n",
            "b\n",
            "\"10-K\"\n",
            "Archived\n",
            "a\n",
            "b\n",
            "\"Top Patent Holders of 2020\"\n",
            "Archived\n",
            "^\n",
            "\"2021 Top 50 US Patent Assignees\"\n",
            "^\n",
            "\"Why IBM is no longer interested in breaking patent records–and how it plans to measure innovation in the age of open source and quantum computing\"\n",
            "Archived\n",
            "a\n",
            "b\n",
            "\"IBM | Founding, History, & Products | Britannica\"\n",
            "^\n",
            "\"IBM Tops U.S. Patent List for 28th Consecutive Year with Innovations in Artificial Intelligence, Hybrid Cloud, Quantum Computing and Cyber-Security\"\n",
            "^\n",
            "\"About us\"\n",
            "a\n",
            "b\n",
            "\"Fortune 500\"\n",
            "^\n",
            "Schofield, Jack\n",
            "\"IBM shows growth after 22 straight quarters of declining revenues, but has it turned the corner?\"\n",
            "the original\n",
            "^\n",
            "\"IBM Brand Ranking | All Brand Rankings where IBM is listed!\"\n",
            "^\n",
            "ISBN\n",
            "0-7385-3700-4\n",
            "^\n",
            "Images of America: IBM in Endicott\n",
            "Arcadia Publishing\n",
            "ISBN\n",
            "0-7385-3700-4\n",
            "Archived\n",
            "^\n",
            "\"Dey dial recorder, early 20th century\"\n",
            "Archived\n",
            "^\n",
            "\"Hollerith 1890 Census Tabulator\"\n",
            "Columbia University\n",
            "Archived\n",
            "^\n",
            "\"Employee Punch Clocks\"\n",
            "the original\n",
            "^\n",
            "\"Tabulating Concerns Unite: Flint & Co. Bring Four Together with $19,000,000 capital\"\n",
            "Archived\n",
            "^\n",
            "The Lengthening Shadow: The Life of Thomas J. Watson\n",
            "89–93\n",
            "^\n",
            "ISBN\n",
            "978-1-000-87875-2\n",
            "^\n",
            "a\n",
            "b\n",
            "c\n",
            "\"Chronological History of IBM, 1910s\"\n",
            "Archived\n",
            "^\n",
            "Wherever Men Trade: The Romance of the Cash Register\n",
            "ISBN\n",
            "9780405047138\n",
            "OCLC\n",
            "243101\n",
            "^\n",
            "^\n",
            "^\n",
            "ISBN\n",
            "9780914153108\n",
            "^\n",
            "ISBN\n",
            "978-1-4594-0987-3\n",
            "^\n",
            "\"\"Stranger than Science Fiction: Edwin Black, IBM, and the Holocaust.\"\"\n",
            "Johns Hopkins University Press\n",
            "JSTOR\n",
            "25147861\n",
            "^\n",
            "Campbell-Kelly, Martin\n",
            "MIT Press\n",
            "^\n",
            "\"Monopolization: Corporate Strategy, the IBM Cases, and the Transformation of the Law\"\n",
            "Texas Law Review\n",
            "Archived\n",
            "^\n",
            "\"The history of the UPC bar code and how the bar code symbol and system became a world standard\"\n",
            "Archived\n",
            "^\n",
            "McGraw Hill\n",
            "^\n",
            "\"'Break Up IBM,' Cry Some Investors Who See Value in Those Baby Blues\"\n",
            "^\n",
            "\"Big Blue still breaking up its bureaucracy\"\n",
            "^\n",
            "\"Facts, Figures on IBM's 13 Decentralized Firms\"\n",
            "^\n",
            "\"The Executive Computer; Can I.B.M. Learn From a Unit It Freed?\"\n",
            "^\n",
            "\"IBM Plans Division For Its PC Business; One Executive Expected to Be Put in Control\"\n",
            "the original\n",
            "^\n",
            "\"With New Approach and Executive Team, IBM Seeks a Rebirth\"\n",
            "the original\n",
            "^\n",
            "\"IBM to Unveil New Structure of PC Business\"\n",
            "^\n",
            "\"IBM reports record loss of $8 billion\"\n",
            "^\n",
            "\"I.B.M. and Dell Stake Out the Little Picture in PC's\"\n",
            "the original\n",
            "^\n",
            "\"IBM Power Personal Systems group to be folded into PC Co\"\n",
            "^\n",
            "\"Life science: Fade or flourish ?\"\n",
            "the original\n",
            "^\n",
            "\"IBM Archives: Louis V. Gerstner, Jr\"\n",
            "Archived\n",
            "^\n",
            "\"IBM to acquire PwC Consulting for $3.5 billion\"\n",
            "^\n",
            "\"IBM grabs consulting giant for $3.5 billion\"\n",
            "^\n",
            "\"Not Your Father's PC Company Anymore\"\n",
            "^\n",
            "\"The Strategy For I.B.M.: Loss-Leader PC Sales\"\n",
            "ISSN\n",
            "0362-4331\n",
            "^\n",
            "\"Big Blue to combine PC division with PSG\"\n",
            "^\n",
            "\"IBM, LG Electronics Call Halt To PC Joint Venture in Korea\"\n",
            "The Wall Street Journal\n",
            "ISSN\n",
            "0099-9660\n",
            "^\n",
            "\"LG, IBM to split by end of year\"\n",
            "Korea JoongAng Daily\n",
            "^\n",
            "\"IBM, LG Electronics to End Joint Venture\"\n",
            "Forbes\n",
            "the original\n",
            "^\n",
            "Vance, Ashlee\n",
            "\"South Korea slams IBM with server slush fund charges\"\n",
            "^\n",
            "\"Laptop Retrospective\"\n",
            "^\n",
            "\"Lenovo Completes Acquisition Of IBM's Personal Computing Division\"\n",
            "Archived\n",
            "^\n",
            "\"IBM Plans to Acquire Texas Memory Systems\"\n",
            "Archived\n",
            "^\n",
            "\"IBM to buy website hosting service SoftLayer\"\n",
            "Archived\n",
            "^\n",
            "\"Inside the Video Surveillance Program IBM Built for Philippine Strongman Rodrigo Duterte\"\n",
            "Archived\n",
            "^\n",
            "\"Lenovo says $2.1 billion IBM x86 server deal to close on Wednesday\"\n",
            "Archived\n",
            "^\n",
            "\"Apple + IBM\"\n",
            "Archived\n",
            "^\n",
            "\"Apple Teams Up With IBM For Huge, Expansive Enterprise Push\"\n",
            "Archived\n",
            "^\n",
            "\"Landmark IBM Twitter partnership to help businesses make decisions\"\n",
            "Archived\n",
            "^\n",
            "\"IBM Announces Marketing Partnership With Facebook\"\n",
            "Archived\n",
            "^\n",
            "\"Tencent teams up with IBM to offer business software over the cloud\"\n",
            "Archived\n",
            "^\n",
            "\"Cisco and IBM's New Partnership Is a Lot About Talk\"\n",
            "Archived\n",
            "^\n",
            "\"IBM, Under Armour Team Up To Bring Cognitive Computing To Fitness Apps\"\n",
            "Archived\n",
            "^\n",
            "\"IBM, Box Cloud Partnership: What It Means\"\n",
            "Archived\n",
            "^\n",
            "\"Microsoft just made a deal with IBM – and Apple should be nervous\"\n",
            "Archived\n",
            "^\n",
            "\"VMware and SugarCRM expand partnerships with IBM, make services available on IBM Cloud\"\n",
            "Archived\n",
            "^\n",
            "\"IBM, CSC Expand Their Cloud Deal to the Mainframe\"\n",
            "^\n",
            "\"Macy's Taps IBM, Satisfi for In-Store Shopping Companion\"\n",
            "^\n",
            "\"Sesame Workshop, IBM partner to use Watson for preschoolers\"\n",
            "Archived\n",
            "^\n",
            "\"IBM, Salesforce Strike Global Partnership on Cloud, AI\"\n",
            "Archived\n",
            "^\n",
            "\"IBM Buys Merge Healthcare to Boost Watson Health Cloud\"\n",
            "Archived\n",
            "^\n",
            "\"IBM Agrees to Acquire Weather Channel's Digital Assets\"\n",
            "Archived\n",
            "^\n",
            "\"IBM to Acquire the Weather Company\"\n",
            "Archived\n",
            "^\n",
            "\"IBM acquires Ustream, launches cloud video unit\"\n",
            "Archived\n",
            "^\n",
            "\"IBM Acquires Ustream: Behind the Acquisition\"\n",
            "Archived\n",
            "^\n",
            "\"Big Blue isn't so big anymore\"\n",
            "Archived\n",
            "^\n",
            "\"Groupon sues 'once-great' IBM over patent\"\n",
            "Archived\n",
            "^\n",
            "\"IBM Buys Digital Part of The Weather Company\"\n",
            "Archived\n",
            "^\n",
            "\"IBM to Acquire Red Hat for About $33 Billion\"\n",
            "The Wall Street Journal\n",
            "ISSN\n",
            "0099-9660\n",
            "Archived\n",
            "^\n",
            "\"IBM to Acquire Linux Distributor Red Hat for $33.4 Billion\"\n",
            "Archived\n",
            "^\n",
            "\"IBM to acquire Red Hat, completely changing the cloud landscape and becoming world's #1 hybrid cloud provider\"\n",
            "Archived\n",
            "^\n",
            "\"IBM Closes Landmark Acquisition of Red Hat for $34 Billion; Defines Open, Hybrid Cloud Future\"\n",
            "Archived\n",
            "^\n",
            "\"IBM To Accelerate Hybrid Cloud Growth Strategy And Execute Spin-Off Of Market-Leading Managed Infrastructure Services Unit\"\n",
            "Archived\n",
            "^\n",
            "\"IBM to break up 109-year old company to focus on cloud growth\"\n",
            "Archived\n",
            "^\n",
            "\"IBM spins off a quarter of the company to focus on the cloud\"\n",
            "Archived\n",
            "^\n",
            "\"IBM shares rise on plans to spin off its IT infrastructure unit and focus on the cloud business\"\n",
            "Archived\n",
            "^\n",
            "\"IBM to Spin Off Services Unit to Accelerate Cloud-Computing Pivot\"\n",
            "Archived\n",
            "^\n",
            "\"IBM Splits Into Two Companies\"\n",
            "Archived\n",
            "^\n",
            "\"IBM Spinning Off Infrastructure Managed Services Group To Focus On Cloud Is A Good Move\"\n",
            "Archived\n",
            "^\n",
            "\"IBM names Martin Schroeter as CEO of $19B NewCo services spinoff\"\n",
            "Archived\n",
            "^\n",
            "\"IBM names former financial chief Martin Schroeter as head of new IT infrastructure services company\"\n",
            "ETCIO\n",
            "Reuters\n",
            "Archived\n",
            "^\n",
            "\"Update on Our Actions: War in Ukraine\"\n",
            "^\n",
            "\"IBM finally shutters Russian operations, lays off staff\"\n",
            "^\n",
            "\"IBM Extends Watson.x Governance & Compliance with Manta Acquisition\"\n",
            "^\n",
            "\"IBM suspends ads on X after corporate ads appeared next to pro-Nazi content\"\n",
            "^\n",
            "\"Advertisers Push Back at Social Media Firms over Antisemitism\"\n",
            "^\n",
            "\"IBM to buy Software AG's enterprise integration platforms for $2.3 billion\"\n",
            "^\n",
            "\"Contact Us\"\n",
            "Archived\n",
            "^\n",
            "\"Dominance Ended, I.B.M. Fights Back\"\n",
            "Archived\n",
            "^\n",
            "\"IBM's New Headquarters Reflects A Change in Corporate Style\"\n",
            "The New York Times\n",
            "Archived\n",
            "^\n",
            "\"On the Dedication of the Louis V. Gerstner, Jr., Center for Learning – THINK Blog\"\n",
            "Archived\n",
            "^\n",
            "\"Property Overview\"\n",
            "the original\n",
            "^\n",
            "\"Company Overview of IBM China Company Limited\"\n",
            "Archived\n",
            "^\n",
            "\"Watson IoT Headquarters\"\n",
            "Archived\n",
            "^\n",
            "The Washington Post\n",
            "^\n",
            "\"Environmental Protection\"\n",
            "Archived\n",
            "^\n",
            "\"Village of Endicott Environmental Investigations\"\n",
            "Archived\n",
            "^\n",
            "\"In an I.B.M. Village, Pollution Fears Taint Relations With Neighbors\"\n",
            "Archived\n",
            "^\n",
            "\"IBM earnings and revenue continue to shrink, stock falls 6%\"\n",
            "Archived\n",
            "^\n",
            "\"IBM Market Cap 2006–2021 | IBM\"\n",
            "Archived\n",
            "^\n",
            "\"Fortune 500\"\n",
            "Archived\n",
            "^\n",
            "\"The Truth About IBM's Buybacks\"\n",
            "Archived\n",
            "^\n",
            "\"IBM and the financial engineering economy: James Saft\"\n",
            "Archived\n",
            "^\n",
            "\"Boring IBM Just Got a Lot More Interesting\"\n",
            "Archived\n",
            "^\n",
            "\"IBM Investing $3B in Internet of Things\"\n",
            "Archived\n",
            "^\n",
            "\"Digital workplace services\"\n",
            "Archived\n",
            "^\n",
            "\"IBM Products\"\n",
            "Archived\n",
            "^\n",
            "\"Data Center Knowledge – SoftLayer: $78 Million in First Quarter Revenue\"\n",
            "Archived\n",
            "^\n",
            "\"Cloud computing news: Security\"\n",
            "Archived\n",
            "^\n",
            "\"IBM Inks VMware, GitHub, Bitly Deals, Expands Apple Swift Use As It Doubles Down On The Cloud\"\n",
            "Archived\n",
            "^\n",
            "\"IBM delivers Power-based chip for Microsoft Xbox 360 worldwide launch\"\n",
            "Archived\n",
            "^\n",
            "\"IBM microprocessors drive the new Nintendo WiiU console\"\n",
            "Archived\n",
            "^\n",
            "\"IBM's 45nm SOI microprocessors at core of Nintendo Wii U\"\n",
            "the original\n",
            "^\n",
            "\"Building a smarter planet\"\n",
            "Archived\n",
            "^\n",
            "\"New research initiative sees IBM commit $3 bn\"\n",
            "the original\n",
            "^\n",
            "\"IBM launches flash arrays for smaller enterprises, aims to court EMC, Dell customers\"\n",
            "Archived\n",
            "^\n",
            "\"IBM. Global locations for your global business\"\n",
            "Archived\n",
            "^\n",
            "\"Kenexa Corporation | Company Profile from Hoover's\"\n",
            "Archived\n",
            "^\n",
            "\"IBM to Acquire the Weather Company\"\n",
            "Archived\n",
            "^\n",
            "\"Big Blue's Smarter Marketing Playbook\"\n",
            "Archived\n",
            "^\n",
            "\"At IBM Research, a constant quest for the bleeding edge\"\n",
            "dead link\n",
            "^\n",
            "\"Smart Grid\"\n",
            "the original\n",
            "^\n",
            "\"Smarter Water Management\"\n",
            "the original\n",
            "^\n",
            "\"Smart traffic\"\n",
            "the original\n",
            "^\n",
            "\"Smarter Buildings\"\n",
            "the original\n",
            "^\n",
            "\"About developerWorks\"\n",
            "IBM developerWorks\n",
            "Archived\n",
            "^\n",
            "\"What is Watson?\"\n",
            "Archived\n",
            "^\n",
            "\"Watson Oncology\"\n",
            "the original\n",
            "^\n",
            "\"IBM's Watson Now A Customer Service Agent, Coming To Smartphones Soon\"\n",
            "Archived\n",
            "^\n",
            "\"IBM Unveils Q System One Quantum Computer\"\n",
            "Archived\n",
            "^\n",
            "\"NYPD changes the crime control equation by transforming the way it uses information\"\n",
            "Archived\n",
            "^\n",
            "\"IBM to build Europe's first quantum computer in Germany\"\n",
            "Archived\n",
            "^\n",
            "\"IBM Policy\"\n",
            "^\n",
            "\"IBM exits facial recognition business, calls for police reform\"\n",
            "^\n",
            "\"IBM steps up its cloud partnership strategy with AWS deal\"\n",
            "^\n",
            "\"How Quantum Computing Will Transform Our World\"\n",
            "^\n",
            "\"IBM to Spin off $19B Business to Focus on Cloud Computing\"\n",
            "^\n",
            "\"IBM to name infrastructure services business 'Kyndryl' after spinoff\"\n",
            "Archived\n",
            "^\n",
            "\"IBM to Acquire Software Provider Turbonomic for Over $1.5 Billion\"\n",
            "Archived\n",
            "^\n",
            "\"IBM sells Watson Health assets to investment firm Francisco Partners\"\n",
            "ZDNet\n",
            "Archived\n",
            "^\n",
            "\"IBM and Rapidus Form Strategic Partnership to Build Advanced Semiconductor Technology and Ecosystem in Japan\"\n",
            "^\n",
            "\"GlobalFoundries sues IBM, says trade secrets were unlawfully given to Japan's Rapidus\"\n",
            "^\n",
            "\"IBM Research: Global labs\"\n",
            "Archived\n",
            "^\n",
            "\"IBM's expenditure on research and development from 2005 to 2015 (in billion U.S. dollars)\"\n",
            "Archived\n",
            "^\n",
            "\"Ginni Rometty just set a big goal for IBM: spending $4 billion to bring in $40 billion\"\n",
            "Archived\n",
            "^\n",
            "\"IBM launches biggest Linux lineup ever\"\n",
            "the original\n",
            "^\n",
            "\"IBM invests in Brazil Linux Tech Center\"\n",
            "LWN.net\n",
            "Archived\n",
            "^\n",
            "\"Interview: The Eclipse code donation\"\n",
            "the original\n",
            "^\n",
            "\"IBM Archives: \"IBM\" atoms\"\n",
            "Archived\n",
            "^\n",
            "\"The Nobel Prize in Physics 1986 – Press Release\"\n",
            "Archived\n",
            "^\n",
            "Communications of the ACM\n",
            "doi\n",
            "10.1145/1866739.1866752\n",
            "S2CID\n",
            "11847872\n",
            "a\n",
            "b\n",
            "Postphenomenology: A Critical Companion to Ihde\n",
            "State University of New York Press\n",
            "ISBN\n",
            "0-7914-6787-2\n",
            "Archived\n",
            "^\n",
            "Logos, Letterheads & Business Cards: Design for Profit\n",
            "ISBN\n",
            "2-88046-750-0\n",
            "permanent dead link\n",
            "^\n",
            "The Essential Guide to Computing: The Story of Information Technology\n",
            "55\n",
            "ISBN\n",
            "0-13-019469-7\n",
            "^\n",
            "\"IBM Archives\"\n",
            "Archived\n",
            "^\n",
            "\"IBM and Masters Celebrate 20 Years\"\n",
            "Archived\n",
            "^\n",
            "\"IBM CEO Ginni Rometty is Augusta National's third female member\"\n",
            "Archived\n",
            "^\n",
            "\"Why IBM dominates the U.S. Open\"\n",
            "Archived\n",
            "^\n",
            "\"IBM, Olympics Part Ways After 40 Years\"\n",
            "Archived\n",
            "^\n",
            "\"IBM Ends Its NFL Sponsorship Over Difference in Views\"\n",
            "Archived\n",
            "^\n",
            "\"Best Global Brands Ranking for 2012\"\n",
            "the original\n",
            "^\n",
            "\"IBM #1 in Green Rankingss for 2012\"\n",
            "Archived\n",
            "^\n",
            "\"The World's Most Respected Companies\"\n",
            "Archived\n",
            "^\n",
            "\"Tech Consulting Firm Rankings 2012: Best Firms in Each Practice Area\"\n",
            "the original\n",
            "^\n",
            "\"The World's Most Valuable Brands\"\n",
            "Forbes\n",
            "the original\n",
            "^\n",
            "\"The Best-Managed Companies of 2020—and How They Got That Way\"\n",
            "Archived\n",
            "^\n",
            "\"Tech companies increase donations to Ukraine\"\n",
            "^\n",
            "\"IBM's ESG Datasheet for 2020Q4\"\n",
            "the original\n",
            "Alt URL\n",
            "Archived\n",
            "Wayback Machine\n",
            "^\n",
            "\"IBM Commits To Net Zero Greenhouse Gas Emissions By 2030\"\n",
            "^\n",
            "\"International Business Machines Corp. (IBM) profile\"\n",
            "permanent dead link\n",
            "^\n",
            "\"IBM\"\n",
            "Archived\n",
            "^\n",
            "\"The IBM Corporate Service Corps\"\n",
            "Archived\n",
            "^\n",
            "\"Why IBM Gives Top Employees a Month to Do Service Abroad\"\n",
            "Archived\n",
            "^\n",
            "\"Extreme Blue web page\"\n",
            "Archived\n",
            "^\n",
            "\"IBM Launches Distinguished Designer Program\"\n",
            "^\n",
            "Strategic Marketing Communications: New Ways to Build and Integrate Communications\n",
            "ISBN\n",
            "0-7494-2918-6\n",
            "Archived\n",
            "^\n",
            "\"IBM Attire\"\n",
            "Archived\n",
            "^\n",
            "\"IBM stands for 'I've Been Moved'\"\n",
            "Archived\n",
            "^\n",
            "\"IBM stands for \"I'm by myself' for teleworkers of the blue giant\"\n",
            "Archived\n",
            "^\n",
            "Intelligent Mentoring\n",
            "ISBN\n",
            "9780137009497\n",
            "Archived\n",
            "^\n",
            "\"The Union Avoidance Industry in the United States\"\n",
            "doi\n",
            "10.1111/j.1467-8543.2006.00518.x\n",
            "S2CID\n",
            "155066215\n",
            "the original\n",
            "^\n",
            "\"IBM Global Unions Links\"\n",
            "the original\n",
            "^\n",
            "\"In Japan, IBM employees have formed a football team complete with pro stadium, cheerleaders and televised games\"\n",
            "Archived\n",
            "^\n",
            "\"Switch to Macs from PCs reportedly saves IBM $270 per user\"\n",
            "the original\n",
            "^\n",
            "\"After overhauling its performance review system, IBM now uses an app to give and receive real-time feedback\"\n",
            "Archived\n",
            "^\n",
            "\"Tim Cook\"\n",
            "^\n",
            "\"Executive Biographies – Lisa Su\"\n",
            "Archived\n",
            "^\n",
            "\"Leadership Team\"\n",
            "Archived\n",
            "^\n",
            "^\n",
            "\"Fair Isaac CEO: FICO criticism isn't 'fair'\"\n",
            "Archived\n",
            "^\n",
            "DeLaat, Jacqueline\n",
            "Women in World History, Vol. 7: Harr-I\n",
            "ISBN\n",
            "0-7876-4066-2\n",
            "^\n",
            "\"Wisconsin Gov. Scott Walker: A 2016 Contender But Not A College Graduate\"\n",
            "Archived\n",
            "^\n",
            "\"Official Manual of the State of Missouri, 1993–1994\"\n",
            "permanent dead link\n",
            "^\n",
            "\"Katherine Harris' Biography\"\n",
            "Project Vote Smart\n",
            "Archived\n",
            "^\n",
            "\"New York Times (May 31, 1998)\"\n",
            "The New York Times\n",
            "Archived\n",
            "^\n",
            "\"Board of Directors — Officers\"\n",
            "the original\n",
            "^\n",
            "\"Board of Directors\"\n",
            "Archived\n",
            "^\n",
            "\"Warren Buffett never liked tech stocks. So why does he own Apple?\"\n",
            "The Washington Post\n",
            "Archived\n",
            "^\n",
            "\"Warren Buffett says Berkshire Hathaway has sold completely out of IBM\"\n",
            "Archived\n",
            "edit\n",
            "History of IBM § Further reading\n",
            "ISBN\n",
            "9780709938286\n",
            "Oxford University Press\n",
            "Black, Edwin\n",
            "IBM and the Holocaust: The Strategic Alliance Between Nazi Germany and America's Most Powerful Corporation\n",
            "ISBN\n",
            "0-914153-10-2\n",
            "Big Blues: The Unmaking of IBM\n",
            "ISBN\n",
            "9780517591970\n",
            "Gerstner, Louis V. Jr.\n",
            "ISBN\n",
            "0-00-715448-8\n",
            "ISBN\n",
            "978-0-9833734-6-9\n",
            "ISBN\n",
            "978-0-8166-7039-0\n",
            "The Global IBM: Leadership in Multinational Management\n",
            "374\n",
            "ISBN\n",
            "9780396092599\n",
            "ISBN\n",
            "0-87584-654-8\n",
            "MIT Press\n",
            "Steinhilper, Ulrich\n",
            "ISBN\n",
            "1-872836-75-5\n",
            "ISBN\n",
            "978-1-4401-9258-6\n",
            "Watson, Thomas Jr.\n",
            "Father, Son & Co: My Life at IBM and Beyond\n",
            "ISBN\n",
            "0-553-29023-1\n",
            "edit\n",
            "sister projects\n",
            "Definitions\n",
            "Media\n",
            "News\n",
            "Quotations\n",
            "Texts\n",
            "Textbooks\n",
            "Resources\n",
            "Official website\n",
            "\n",
            "IBM companies\n",
            "OpenCorporates\n",
            "Google\n",
            "SEC filings\n",
            "Yahoo!\n",
            "v\n",
            "t\n",
            "e\n",
            "IBM\n",
            "History\n",
            "History\n",
            "Mergers and acquisitions\n",
            "PC business acquisition by Lenovo\n",
            "Products\n",
            "Mainframe\n",
            "IBM Z\n",
            "Power microprocessors\n",
            "Power Systems\n",
            "Storage\n",
            "FlashSystem\n",
            "DS8000\n",
            "Q System One\n",
            "Blue Gene\n",
            "Cell microprocessors\n",
            "PowerPC\n",
            "Midrange computer\n",
            "Personal Computer\n",
            "Selectric\n",
            "ThinkPad\n",
            "alphaWorks\n",
            "Carbon Design System\n",
            "Cloud\n",
            "Cloudant\n",
            "Cognos Analytics\n",
            "Connections\n",
            "Criminal Reduction Utilising Statistical History\n",
            "Fortran\n",
            "ILOG\n",
            "Information Management Software\n",
            "Lotus Software\n",
            "Mainframe operating systems\n",
            "Mashup Center\n",
            "Planning Analytics\n",
            "PureQuery\n",
            "Quantum Platform\n",
            "Qiskit\n",
            "OpenQASM\n",
            "Rational Software\n",
            "SPSS\n",
            "Tivoli Software\n",
            "Service Automation Manager\n",
            "Watson\n",
            "Watsonx\n",
            "WebSphere\n",
            "Apptio\n",
            "Center for The Business of Government\n",
            "Consulting\n",
            "Promontory\n",
            "Kenexa\n",
            "International subsidiaries\n",
            "India\n",
            "Press\n",
            "Red Hat\n",
            "Research\n",
            "The Weather Company\n",
            "Weather Underground\n",
            "AdStar\n",
            "AIM alliance\n",
            "Kaleida Labs\n",
            "Taligent\n",
            "Ambra Computer\n",
            "Cognos\n",
            "EduQuest\n",
            "Kyndryl\n",
            "Lexmark\n",
            "Merative\n",
            "Microelectronics\n",
            "Product Center\n",
            "Science Research Associates\n",
            "Service Bureau\n",
            "1250 René-Lévesque\n",
            "One Atlantic Center\n",
            "Rome Software Lab\n",
            "Toronto Software Lab\n",
            "330 North Wabash\n",
            "Honolulu\n",
            "Seattle\n",
            "Thomas J. Watson Research Center\n",
            "Hakozaki Facility\n",
            "Yamato Facility\n",
            "Cambridge Scientific Center\n",
            "IBM Hursley\n",
            "Canada Head Office Building\n",
            "IBM Rochester\n",
            "Academy of Technology\n",
            "Deep Thunder\n",
            "Developer\n",
            "Develothon\n",
            "Fellow\n",
            "The Great Mind Challenge\n",
            "Linux Technology Center\n",
            "SkillsBuild\n",
            "Smarter Planet\n",
            "Virtual Universe Community\n",
            "World Community Grid\n",
            "Automated teller machine\n",
            "Cynefin framework\n",
            "DRAM\n",
            "Electronic keypunch\n",
            "Floppy disk\n",
            "Hard disk drive\n",
            "Magnetic stripe card\n",
            "Relational model\n",
            "Sabre airline reservation system\n",
            "Scanning tunneling microscope\n",
            "Financial swaps\n",
            "Universal Product Code\n",
            "Big Blue\n",
            "Commercial Processing Workload\n",
            "Customer engineer\n",
            "Globally integrated enterprise\n",
            "e-business\n",
            "Think slogan\n",
            "CEOs\n",
            "Thomas J. Watson\n",
            "Thomas Watson Jr.\n",
            "T. Vincent Learson\n",
            "Frank T. Cary\n",
            "John R. Opel\n",
            "John Fellows Akers\n",
            "Louis V. Gerstner Jr.\n",
            "Samuel J. Palmisano\n",
            "Ginni Rometty\n",
            "Arvind Krishna\n",
            "Thomas Buberl\n",
            "Michael L. Eskew\n",
            "David Farr\n",
            "Alex Gorsky\n",
            "Michelle J. Howard\n",
            "Arvind Krishna\n",
            "Andrew N. Liveris\n",
            "Martha E. Pollack\n",
            "Virginia M. Rometty\n",
            "Joseph R. Swedish\n",
            "Sidney Taurel\n",
            "Peter R. Voser\n",
            "A Boy and His Atom\n",
            "American football\n",
            "Rugby union\n",
            "Common Public License\n",
            "IBM Public License\n",
            "Deep Blue\n",
            "Deep Thought\n",
            "Dynamic infrastructure\n",
            "GlobalFoundries\n",
            "GUIDE International\n",
            "IBM and the Holocaust\n",
            "International chess tournament\n",
            "Lucifer cipher\n",
            "Mathematica\n",
            "IBM Plex\n",
            "SHARE computing\n",
            "ScicomP\n",
            "Unions\n",
            "Category\n",
            "Commons\n",
            "Navigational boxes\n",
            "FOSS\n",
            "Midrange computers\n",
            "Operating systems\n",
            "Personal computers\n",
            "System/360\n",
            "System/370\n",
            "Typewriters\n",
            "Vacuum tube computers\n",
            "v\n",
            "t\n",
            "e\n",
            "Dow Jones Industrial Average\n",
            "3M\n",
            "American Express\n",
            "Amgen\n",
            "Apple\n",
            "Boeing\n",
            "Caterpillar\n",
            "Chevron\n",
            "Cisco\n",
            "Coca-Cola\n",
            "Disney\n",
            "Dow\n",
            "Goldman Sachs\n",
            "Home Depot\n",
            "Honeywell\n",
            "IBM\n",
            "Intel\n",
            "Johnson & Johnson\n",
            "JPMorgan Chase\n",
            "McDonald's\n",
            "Merck\n",
            "Microsoft\n",
            "Nike\n",
            "Procter & Gamble\n",
            "Salesforce\n",
            "Travelers\n",
            "UnitedHealth\n",
            "Verizon\n",
            "Visa\n",
            "Walgreens Boots Alliance\n",
            "Walmart\n",
            "v\n",
            "t\n",
            "e\n",
            "Acer\n",
            "Apple\n",
            "Asus\n",
            "Dell\n",
            "Fujitsu\n",
            "Huawei\n",
            "HP\n",
            "Lenovo\n",
            "LG\n",
            "Microsoft\n",
            "MSI\n",
            "NEC\n",
            "Panasonic\n",
            "Razer\n",
            "Samsung\n",
            "Sharp\n",
            "Dynabook\n",
            "Vaio\n",
            "Cisco\n",
            "Dell EMC\n",
            "HPE\n",
            "IBM\n",
            "Inspur\n",
            "NetApp\n",
            "Oracle\n",
            "Fujitsu\n",
            "HPE\n",
            "IBM\n",
            "Largest IT companies\n",
            "Computer hardware manufacturers\n",
            "Home computer hardware companies\n",
            "Server hardware\n",
            "Mainframe computers\n",
            "v\n",
            "t\n",
            "e\n",
            "information storage\n",
            "ADATA\n",
            "Amazon\n",
            "Apple\n",
            "Dell\n",
            "Dell EMC\n",
            "Fujitsu\n",
            "Google\n",
            "Hitachi Data Systems\n",
            "Hewlett Packard Enterprise\n",
            "IBM\n",
            "Kingston Technology\n",
            "Kioxia\n",
            "Microsoft\n",
            "NetApp\n",
            "Oracle\n",
            "Plextor\n",
            "Samsung\n",
            "Seagate\n",
            "Silicon Power\n",
            "Sony\n",
            "Transcend Information\n",
            "Western Digital\n",
            "v\n",
            "t\n",
            "e\n",
            "software\n",
            "Adobe\n",
            "Amadeus IT Group\n",
            "Amazon\n",
            "Apple\n",
            "Autodesk\n",
            "Citrix\n",
            "FIS\n",
            "Google\n",
            "HPE\n",
            "IBM\n",
            "Intuit\n",
            "Infor\n",
            "Microsoft\n",
            "Oracle\n",
            "Quest Software\n",
            "Sage Group\n",
            "SAP\n",
            "Tencent\n",
            "Largest IT companies\n",
            "Largest software companies\n",
            "Category:Software companies\n",
            "v\n",
            "t\n",
            "e\n",
            "Electronics industry in the United States\n",
            "Home appliances\n",
            "Apple\n",
            "Bose\n",
            "Cisco\n",
            "Corsair\n",
            "Dell\n",
            "Dolby Laboratories\n",
            "Element Electronics\n",
            "Emerson Radio\n",
            "Harman\n",
            "Honeywell\n",
            "HP\n",
            "InFocus\n",
            "Jensen Electronics\n",
            "Kenmore\n",
            "Kingston\n",
            "Kimball\n",
            "Koss\n",
            "Lexmark\n",
            "Logitech\n",
            "Magnavox\n",
            "Marantz\n",
            "Memorex\n",
            "Microsoft\n",
            "Monster\n",
            "Plantronics\n",
            "Planar Systems\n",
            "Razer\n",
            "Seagate\n",
            "Seiki Digital\n",
            "Skullcandy\n",
            "Turtle Beach\n",
            "ViewSonic\n",
            "Vizio\n",
            "Western Digital\n",
            "HGST\n",
            "SanDisk\n",
            "Westinghouse Electric Company\n",
            "Westinghouse Electronics\n",
            "Xerox\n",
            "Electronic components\n",
            "3M\n",
            "Achronix\n",
            "Analog Devices\n",
            "Maxim Integrated\n",
            "Applied Materials\n",
            "Altera\n",
            "AVX\n",
            "Cirque\n",
            "Diodes Inc.\n",
            "Flex\n",
            "Jabil\n",
            "KEMET\n",
            "Maxwell Technologies\n",
            "Sanmina\n",
            "Vishay\n",
            "Semiconductor devices\n",
            "AMD\n",
            "Ampere Computing\n",
            "Apple\n",
            "Broadcom\n",
            "Cypress Semiconductor\n",
            "GlobalFoundries\n",
            "IBM\n",
            "Intel\n",
            "Interlink\n",
            "KLA-Tencor\n",
            "Lam Research\n",
            "Lattice\n",
            "Marvell Technology\n",
            "Microchip\n",
            "Atmel\n",
            "Micron\n",
            "NetApp\n",
            "Nimbus Data\n",
            "Nvidia\n",
            "Mellanox\n",
            "NXP\n",
            "Onsemi\n",
            "Qualcomm\n",
            "Silicon Image\n",
            "Synaptics\n",
            "Tabula\n",
            "Texas Instruments\n",
            "Xilinx\n",
            "Zilog\n",
            "Mobile devices\n",
            "Apple\n",
            "BLU\n",
            "Google\n",
            "Lenovo\n",
            "Motorola Mobility\n",
            "Cadence Design Systems\n",
            "Cray\n",
            "GE\n",
            "RCA\n",
            "Oracle Corporation\n",
            "Synopsys\n",
            "Actel\n",
            "Atari Corporation\n",
            "Commodore\n",
            "Compaq\n",
            "Fairchild\n",
            "Freescale\n",
            "LSI\n",
            "Microsemi\n",
            "National Semiconductor\n",
            "Palm\n",
            "Philco\n",
            "RCA\n",
            "Signetics\n",
            "Silicon Graphics\n",
            "Solectron\n",
            "Sun Microsystems\n",
            "Zenith Electronics\n",
            "Authority control databases\n",
            "\n",
            "ISNI\n",
            "VIAF\n",
            "Norway\n",
            "Spain\n",
            "France\n",
            "BnF data\n",
            "Catalonia\n",
            "Germany\n",
            "Israel\n",
            "United States\n",
            "Sweden\n",
            "Latvia\n",
            "Japan\n",
            "Czech Republic\n",
            "Australia\n",
            "Greece\n",
            "Korea\n",
            "Croatia\n",
            "Poland\n",
            "Portugal\n",
            "CiNii\n",
            "MusicBrainz\n",
            "Museum of Modern Art\n",
            "2\n",
            "ULAN\n",
            "Trove\n",
            "SNAC\n",
            "IdRef\n",
            "https://en.wikipedia.org/w/index.php?title=IBM&oldid=1191701095\n",
            "Categories\n",
            "IBM\n",
            "1888 establishments in New York (state)\n",
            "Technology companies established in 1888\n",
            "American companies established in 1888\n",
            "Cloud computing providers\n",
            "Collier Trophy recipients\n",
            "Companies based in Westchester County, New York\n",
            "Companies in the Dow Jones Industrial Average\n",
            "Companies listed on the New York Stock Exchange\n",
            "Computer companies of the United States\n",
            "Computer hardware companies\n",
            "Computer systems companies\n",
            "Data companies\n",
            "Data quality companies\n",
            "Display technology companies\n",
            "Electronics companies of the United States\n",
            "Information technology consulting firms of the United States\n",
            "Multinational companies headquartered in the United States\n",
            "National Medal of Technology recipients\n",
            "Outsourcing companies\n",
            "Point of sale companies\n",
            "Software companies based in New York (state)\n",
            "Storage Area Network companies\n",
            "Software companies of the United States\n",
            "International information technology consulting firms\n",
            "CS1: Julian–Gregorian uncertainty\n",
            "CS1 German-language sources (de)\n",
            "All articles with dead external links\n",
            "Articles with dead external links from August 2023\n",
            "Articles with permanently dead external links\n",
            "Webarchive template wayback links\n",
            "Articles with dead external links from July 2018\n",
            "Articles with dead external links from March 2018\n",
            "Articles with short description\n",
            "Short description matches Wikidata\n",
            "Use American English from February 2019\n",
            "All Wikipedia articles written in American English\n",
            "Use mdy dates from February 2023\n",
            "Articles containing potentially dated statements from 2022\n",
            "All articles containing potentially dated statements\n",
            "All articles with unsourced statements\n",
            "Articles with unsourced statements from September 2020\n",
            "Articles containing potentially dated statements from 2016\n",
            "Wikipedia articles containing buzzwords from October 2020\n",
            "Pages using Sister project links with default search\n",
            "OpenCorporates groupings\n",
            "Articles with ISNI identifiers\n",
            "Articles with VIAF identifiers\n",
            "Articles with BIBSYS identifiers\n",
            "Articles with BNE identifiers\n",
            "Articles with BNF identifiers\n",
            "Articles with BNFdata identifiers\n",
            "Articles with CANTICN identifiers\n",
            "Articles with GND identifiers\n",
            "Articles with J9U identifiers\n",
            "Articles with LCCN identifiers\n",
            "Articles with Libris identifiers\n",
            "Articles with LNB identifiers\n",
            "Articles with NDL identifiers\n",
            "Articles with NKC identifiers\n",
            "Articles with NLA identifiers\n",
            "Articles with NLG identifiers\n",
            "Articles with NLK identifiers\n",
            "Articles with NSK identifiers\n",
            "Articles with PLWABN identifiers\n",
            "Articles with PortugalA identifiers\n",
            "Articles with CINII identifiers\n",
            "Articles with MusicBrainz identifiers\n",
            "Articles with MoMA identifiers\n",
            "Articles with ULAN identifiers\n",
            "Articles with Trove identifiers\n",
            "Articles with SNAC-ID identifiers\n",
            "Articles with SUDOC identifiers\n",
            "Creative Commons Attribution-ShareAlike License 4.0\n",
            "\n",
            "Terms of Use\n",
            "Privacy Policy\n",
            "Wikimedia Foundation, Inc.\n",
            "Privacy policy\n",
            "About Wikipedia\n",
            "Disclaimers\n",
            "Contact Wikipedia\n",
            "Code of Conduct\n",
            "Developers\n",
            "Statistics\n",
            "Cookie statement\n",
            "Mobile view\n",
            "\n",
            "\n"
          ]
        }
      ]
    }
  ]
}